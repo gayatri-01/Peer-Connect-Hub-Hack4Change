{
  "cells": [
    {
      "cell_type": "code",
      "execution_count": null,
      "metadata": {
        "id": "Jn5n7yT1Tm-k"
      },
      "outputs": [],
      "source": [
        "import pandas as pd\n",
        "pd.set_option('display.max_colwidth', 1000)\n",
        "import numpy as np\n",
        "import matplotlib.pyplot as plt\n",
        "import seaborn as sns\n",
        "import pickle\n",
        "from sklearn.feature_extraction.text import TfidfVectorizer, CountVectorizer\n",
        "from sklearn.cluster import KMeans\n",
        "from sklearn.metrics import calinski_harabasz_score, silhouette_score, davies_bouldin_score\n",
        "from sklearn.preprocessing import MinMaxScaler\n",
        "import numpy as np\n",
        "from sklearn.preprocessing import StandardScaler, LabelEncoder\n",
        "from sklearn.metrics.pairwise import cosine_similarity\n",
        "from sklearn.neighbors import NearestNeighbors\n",
        "from sklearn.model_selection import train_test_split\n",
        "from tensorflow import keras"
      ]
    },
    {
      "cell_type": "code",
      "source": [
        "desired_columns = [\"MainBranch\",\n",
        "\"Employment\",\n",
        "\"RemoteWork\",\n",
        "\"CodingActivities\",\n",
        "\"EdLevel\",\n",
        "\"LearnCode\",\n",
        "\"LearnCodeOnline\",\n",
        "\"LearnCodeCoursesCert\",\n",
        "\"YearsCode\",\n",
        "\"YearsCodePro\",\n",
        "\"DevType\",\n",
        "\"Country\",\n",
        "\"LanguageHaveWorkedWith\",\n",
        "\"LanguageWantToWorkWith\",\n",
        "\"DatabaseHaveWorkedWith\",\n",
        "\"DatabaseWantToWorkWith\",\n",
        "\"PlatformHaveWorkedWith\",\n",
        "\"PlatformWantToWorkWith\",\n",
        "\"WebframeHaveWorkedWith\",\n",
        "\"WebframeWantToWorkWith\",\n",
        "\"MiscTechHaveWorkedWith\",\n",
        "\"MiscTechWantToWorkWith\",\n",
        "\"ToolsTechHaveWorkedWith\",\n",
        "\"ToolsTechWantToWorkWith\",\n",
        "\"NEWCollabToolsHaveWorkedWith\",\n",
        "\"NEWCollabToolsWantToWorkWith\",\n",
        "\"ICorPM\",\n",
        "\"WorkExp\",\n",
        "\"ProfessionalTech\",\n",
        "\"Industry\"]"
      ],
      "metadata": {
        "id": "sq3xFYvpVkp4"
      },
      "execution_count": null,
      "outputs": []
    },
    {
      "cell_type": "code",
      "source": [
        "from google.colab import drive\n",
        "drive.mount('/content/drive')"
      ],
      "metadata": {
        "colab": {
          "base_uri": "https://localhost:8080/"
        },
        "id": "3ICXEg8hVsN9",
        "outputId": "a8a16206-8c48-4a7d-c5d3-78c42eed59ee"
      },
      "execution_count": null,
      "outputs": [
        {
          "output_type": "stream",
          "name": "stdout",
          "text": [
            "Mounted at /content/drive\n"
          ]
        }
      ]
    },
    {
      "cell_type": "code",
      "source": [
        "originalDF =  pd.read_csv('/content/drive/MyDrive/Eduforge/survey_results_public.csv')"
      ],
      "metadata": {
        "id": "idNZLIJIV1dF"
      },
      "execution_count": null,
      "outputs": []
    },
    {
      "cell_type": "code",
      "source": [
        "originalDF = originalDF[desired_columns]"
      ],
      "metadata": {
        "id": "A2h9ncmfV8-u"
      },
      "execution_count": null,
      "outputs": []
    },
    {
      "cell_type": "code",
      "source": [
        "originalDF.shape"
      ],
      "metadata": {
        "id": "86eS1CdBcFeG",
        "colab": {
          "base_uri": "https://localhost:8080/"
        },
        "outputId": "73b474f4-1277-4f52-b70a-a85de6953f42"
      },
      "execution_count": null,
      "outputs": [
        {
          "output_type": "execute_result",
          "data": {
            "text/plain": [
              "(89184, 30)"
            ]
          },
          "metadata": {},
          "execution_count": 8
        }
      ]
    },
    {
      "cell_type": "code",
      "source": [
        "numerical_columns = ['YearsCode', 'YearsCodePro', 'WorkExp']\n",
        "categorical_columns = originalDF.columns.difference(numerical_columns)\n",
        "categorical_columns"
      ],
      "metadata": {
        "colab": {
          "base_uri": "https://localhost:8080/"
        },
        "id": "Lc8HYCg-U6It",
        "outputId": "badf0ea7-8609-49dc-cd2a-3d1e8a016182"
      },
      "execution_count": null,
      "outputs": [
        {
          "output_type": "execute_result",
          "data": {
            "text/plain": [
              "Index(['CodingActivities', 'Country', 'DatabaseHaveWorkedWith',\n",
              "       'DatabaseWantToWorkWith', 'DevType', 'EdLevel', 'Employment', 'ICorPM',\n",
              "       'Industry', 'LanguageHaveWorkedWith', 'LanguageWantToWorkWith',\n",
              "       'LearnCode', 'LearnCodeCoursesCert', 'LearnCodeOnline', 'MainBranch',\n",
              "       'MiscTechHaveWorkedWith', 'MiscTechWantToWorkWith',\n",
              "       'NEWCollabToolsHaveWorkedWith', 'NEWCollabToolsWantToWorkWith',\n",
              "       'PlatformHaveWorkedWith', 'PlatformWantToWorkWith', 'ProfessionalTech',\n",
              "       'RemoteWork', 'ToolsTechHaveWorkedWith', 'ToolsTechWantToWorkWith',\n",
              "       'WebframeHaveWorkedWith', 'WebframeWantToWorkWith'],\n",
              "      dtype='object')"
            ]
          },
          "metadata": {},
          "execution_count": 9
        }
      ]
    },
    {
      "cell_type": "code",
      "source": [
        "originalDF.head()"
      ],
      "metadata": {
        "id": "TskTzinvUgX4",
        "colab": {
          "base_uri": "https://localhost:8080/",
          "height": 1000
        },
        "outputId": "f6cb23d1-b4e1-47c4-b7b8-f6083336d0a0"
      },
      "execution_count": null,
      "outputs": [
        {
          "output_type": "execute_result",
          "data": {
            "text/plain": [
              "                       MainBranch  \\\n",
              "0                   None of these   \n",
              "1  I am a developer by profession   \n",
              "2  I am a developer by profession   \n",
              "3  I am a developer by profession   \n",
              "4  I am a developer by profession   \n",
              "\n",
              "                                                                 Employment  \\\n",
              "0                                                                       NaN   \n",
              "1                                                       Employed, full-time   \n",
              "2                                                       Employed, full-time   \n",
              "3                                                       Employed, full-time   \n",
              "4  Employed, full-time;Independent contractor, freelancer, or self-employed   \n",
              "\n",
              "                             RemoteWork  \\\n",
              "0                                   NaN   \n",
              "1                                Remote   \n",
              "2  Hybrid (some remote, some in-person)   \n",
              "3  Hybrid (some remote, some in-person)   \n",
              "4                                Remote   \n",
              "\n",
              "                                                                                                                        CodingActivities  \\\n",
              "0                                                                                                                                    NaN   \n",
              "1  Hobby;Contribute to open-source projects;Bootstrapping a business;Professional development or self-paced learning from online courses   \n",
              "2                                                              Hobby;Professional development or self-paced learning from online courses   \n",
              "3                                                                                                                                  Hobby   \n",
              "4                           Hobby;Contribute to open-source projects;Professional development or self-paced learning from online courses   \n",
              "\n",
              "                                        EdLevel  \\\n",
              "0                                           NaN   \n",
              "1  Bachelor’s degree (B.A., B.S., B.Eng., etc.)   \n",
              "2  Bachelor’s degree (B.A., B.S., B.Eng., etc.)   \n",
              "3  Bachelor’s degree (B.A., B.S., B.Eng., etc.)   \n",
              "4  Bachelor’s degree (B.A., B.S., B.Eng., etc.)   \n",
              "\n",
              "                                                                                                                                                                                                                                    LearnCode  \\\n",
              "0                                                                                                                                                                                                                                         NaN   \n",
              "1  Books / Physical media;Colleague;Friend or family member;Hackathons (virtual or in-person);Online Courses or Certification;On the job training;Other online resources (e.g., videos, blogs, forum);School (i.e., University, College, etc)   \n",
              "2                                                                                            Books / Physical media;Colleague;On the job training;Other online resources (e.g., videos, blogs, forum);School (i.e., University, College, etc)   \n",
              "3                                                                                                               Colleague;Friend or family member;Other online resources (e.g., videos, blogs, forum);School (i.e., University, College, etc)   \n",
              "4                                                                                          Books / Physical media;Online Courses or Certification;Other online resources (e.g., videos, blogs, forum);School (i.e., University, College, etc)   \n",
              "\n",
              "                                                                                                                                                                                                                                                                                                                                   LearnCodeOnline  \\\n",
              "0                                                                                                                                                                                                                                                                                                                                              NaN   \n",
              "1  Formal documentation provided by the owner of the tech;Blogs with tips and tricks;Books;Recorded coding sessions;How-to videos;Video-based Online Courses;Written-based Online Courses;Auditory material (e.g., podcasts);Online challenges (e.g., daily or weekly coding challenges);Written Tutorials;Click to write Choice 20;Stack Overflow   \n",
              "2                                                                                                                            Formal documentation provided by the owner of the tech;Blogs with tips and tricks;How-to videos;Online challenges (e.g., daily or weekly coding challenges);Written Tutorials;Click to write Choice 20;Stack Overflow   \n",
              "3                                                                                                                                                                       Formal documentation provided by the owner of the tech;Blogs with tips and tricks;Auditory material (e.g., podcasts);Written Tutorials;Stack Overflow;Interactive tutorial   \n",
              "4                                                                Formal documentation provided by the owner of the tech;Blogs with tips and tricks;Books;How-to videos;Video-based Online Courses;Online challenges (e.g., daily or weekly coding challenges);Written Tutorials;Click to write Choice 20;Interactive tutorial;Certification videos   \n",
              "\n",
              "   LearnCodeCoursesCert YearsCode YearsCodePro  ...  \\\n",
              "0                   NaN       NaN          NaN  ...   \n",
              "1                 Other        18            9  ...   \n",
              "2                   NaN        27           23  ...   \n",
              "3                   NaN        12            7  ...   \n",
              "4  Other;Codecademy;edX         6            4  ...   \n",
              "\n",
              "        MiscTechHaveWorkedWith                         MiscTechWantToWorkWith  \\\n",
              "0                          NaN                                            NaN   \n",
              "1  Electron;React Native;Tauri  Capacitor;Electron;Tauri;Uno Platform;Xamarin   \n",
              "2                          NaN                                            NaN   \n",
              "3                          NaN                                            NaN   \n",
              "4                          NaN                                            NaN   \n",
              "\n",
              "                       ToolsTechHaveWorkedWith  \\\n",
              "0                                          NaN   \n",
              "1  Docker;Kubernetes;npm;Pip;Vite;Webpack;Yarn   \n",
              "2             Cargo;Docker;Kubernetes;Make;Nix   \n",
              "3               Homebrew;npm;Vite;Webpack;Yarn   \n",
              "4                      Docker;npm;Webpack;Yarn   \n",
              "\n",
              "                                   ToolsTechWantToWorkWith  \\\n",
              "0                                                      NaN   \n",
              "1  Godot;npm;pnpm;Unity 3D;Unreal Engine;Vite;Webpack;Yarn   \n",
              "2                                     Cargo;Kubernetes;Nix   \n",
              "3                                        Homebrew;npm;Vite   \n",
              "4                                          Docker;npm;Yarn   \n",
              "\n",
              "                    NEWCollabToolsHaveWorkedWith NEWCollabToolsWantToWorkWith  \\\n",
              "0                                            NaN                          NaN   \n",
              "1                         Vim;Visual Studio Code       Vim;Visual Studio Code   \n",
              "2                                    Emacs;Helix                  Emacs;Helix   \n",
              "3  IntelliJ IDEA;Vim;Visual Studio Code;WebStorm   IntelliJ IDEA;Vim;WebStorm   \n",
              "4                         Vim;Visual Studio Code       Vim;Visual Studio Code   \n",
              "\n",
              "                   ICorPM WorkExp  \\\n",
              "0                     NaN     NaN   \n",
              "1          People manager    10.0   \n",
              "2  Individual contributor    23.0   \n",
              "3  Individual contributor     7.0   \n",
              "4  Individual contributor     6.0   \n",
              "\n",
              "                                                                                                                                                                                                              ProfessionalTech  \\\n",
              "0                                                                                                                                                                                                                          NaN   \n",
              "1                                                                                                                                                          DevOps function;Microservices;Automated testing;Observability tools   \n",
              "2  DevOps function;Microservices;Automated testing;Observability tools;Innersource initiative;Developer portal or other central places to find tools/services;Continuous integration (CI) and (more often) continuous delivery   \n",
              "3                                                                                                                                           Automated testing;Continuous integration (CI) and (more often) continuous delivery   \n",
              "4                                                                                                         Microservices;Automated testing;Observability tools;Continuous integration (CI) and (more often) continuous delivery   \n",
              "\n",
              "                                                              Industry  \n",
              "0                                                                  NaN  \n",
              "1  Information Services, IT, Software Development, or other Technology  \n",
              "2  Information Services, IT, Software Development, or other Technology  \n",
              "3                                                                  NaN  \n",
              "4                                                                Other  \n",
              "\n",
              "[5 rows x 30 columns]"
            ],
            "text/html": [
              "\n",
              "  <div id=\"df-9a45a29b-d35e-480b-9f73-f6c75e4ed650\" class=\"colab-df-container\">\n",
              "    <div>\n",
              "<style scoped>\n",
              "    .dataframe tbody tr th:only-of-type {\n",
              "        vertical-align: middle;\n",
              "    }\n",
              "\n",
              "    .dataframe tbody tr th {\n",
              "        vertical-align: top;\n",
              "    }\n",
              "\n",
              "    .dataframe thead th {\n",
              "        text-align: right;\n",
              "    }\n",
              "</style>\n",
              "<table border=\"1\" class=\"dataframe\">\n",
              "  <thead>\n",
              "    <tr style=\"text-align: right;\">\n",
              "      <th></th>\n",
              "      <th>MainBranch</th>\n",
              "      <th>Employment</th>\n",
              "      <th>RemoteWork</th>\n",
              "      <th>CodingActivities</th>\n",
              "      <th>EdLevel</th>\n",
              "      <th>LearnCode</th>\n",
              "      <th>LearnCodeOnline</th>\n",
              "      <th>LearnCodeCoursesCert</th>\n",
              "      <th>YearsCode</th>\n",
              "      <th>YearsCodePro</th>\n",
              "      <th>...</th>\n",
              "      <th>MiscTechHaveWorkedWith</th>\n",
              "      <th>MiscTechWantToWorkWith</th>\n",
              "      <th>ToolsTechHaveWorkedWith</th>\n",
              "      <th>ToolsTechWantToWorkWith</th>\n",
              "      <th>NEWCollabToolsHaveWorkedWith</th>\n",
              "      <th>NEWCollabToolsWantToWorkWith</th>\n",
              "      <th>ICorPM</th>\n",
              "      <th>WorkExp</th>\n",
              "      <th>ProfessionalTech</th>\n",
              "      <th>Industry</th>\n",
              "    </tr>\n",
              "  </thead>\n",
              "  <tbody>\n",
              "    <tr>\n",
              "      <th>0</th>\n",
              "      <td>None of these</td>\n",
              "      <td>NaN</td>\n",
              "      <td>NaN</td>\n",
              "      <td>NaN</td>\n",
              "      <td>NaN</td>\n",
              "      <td>NaN</td>\n",
              "      <td>NaN</td>\n",
              "      <td>NaN</td>\n",
              "      <td>NaN</td>\n",
              "      <td>NaN</td>\n",
              "      <td>...</td>\n",
              "      <td>NaN</td>\n",
              "      <td>NaN</td>\n",
              "      <td>NaN</td>\n",
              "      <td>NaN</td>\n",
              "      <td>NaN</td>\n",
              "      <td>NaN</td>\n",
              "      <td>NaN</td>\n",
              "      <td>NaN</td>\n",
              "      <td>NaN</td>\n",
              "      <td>NaN</td>\n",
              "    </tr>\n",
              "    <tr>\n",
              "      <th>1</th>\n",
              "      <td>I am a developer by profession</td>\n",
              "      <td>Employed, full-time</td>\n",
              "      <td>Remote</td>\n",
              "      <td>Hobby;Contribute to open-source projects;Bootstrapping a business;Professional development or self-paced learning from online courses</td>\n",
              "      <td>Bachelor’s degree (B.A., B.S., B.Eng., etc.)</td>\n",
              "      <td>Books / Physical media;Colleague;Friend or family member;Hackathons (virtual or in-person);Online Courses or Certification;On the job training;Other online resources (e.g., videos, blogs, forum);School (i.e., University, College, etc)</td>\n",
              "      <td>Formal documentation provided by the owner of the tech;Blogs with tips and tricks;Books;Recorded coding sessions;How-to videos;Video-based Online Courses;Written-based Online Courses;Auditory material (e.g., podcasts);Online challenges (e.g., daily or weekly coding challenges);Written Tutorials;Click to write Choice 20;Stack Overflow</td>\n",
              "      <td>Other</td>\n",
              "      <td>18</td>\n",
              "      <td>9</td>\n",
              "      <td>...</td>\n",
              "      <td>Electron;React Native;Tauri</td>\n",
              "      <td>Capacitor;Electron;Tauri;Uno Platform;Xamarin</td>\n",
              "      <td>Docker;Kubernetes;npm;Pip;Vite;Webpack;Yarn</td>\n",
              "      <td>Godot;npm;pnpm;Unity 3D;Unreal Engine;Vite;Webpack;Yarn</td>\n",
              "      <td>Vim;Visual Studio Code</td>\n",
              "      <td>Vim;Visual Studio Code</td>\n",
              "      <td>People manager</td>\n",
              "      <td>10.0</td>\n",
              "      <td>DevOps function;Microservices;Automated testing;Observability tools</td>\n",
              "      <td>Information Services, IT, Software Development, or other Technology</td>\n",
              "    </tr>\n",
              "    <tr>\n",
              "      <th>2</th>\n",
              "      <td>I am a developer by profession</td>\n",
              "      <td>Employed, full-time</td>\n",
              "      <td>Hybrid (some remote, some in-person)</td>\n",
              "      <td>Hobby;Professional development or self-paced learning from online courses</td>\n",
              "      <td>Bachelor’s degree (B.A., B.S., B.Eng., etc.)</td>\n",
              "      <td>Books / Physical media;Colleague;On the job training;Other online resources (e.g., videos, blogs, forum);School (i.e., University, College, etc)</td>\n",
              "      <td>Formal documentation provided by the owner of the tech;Blogs with tips and tricks;How-to videos;Online challenges (e.g., daily or weekly coding challenges);Written Tutorials;Click to write Choice 20;Stack Overflow</td>\n",
              "      <td>NaN</td>\n",
              "      <td>27</td>\n",
              "      <td>23</td>\n",
              "      <td>...</td>\n",
              "      <td>NaN</td>\n",
              "      <td>NaN</td>\n",
              "      <td>Cargo;Docker;Kubernetes;Make;Nix</td>\n",
              "      <td>Cargo;Kubernetes;Nix</td>\n",
              "      <td>Emacs;Helix</td>\n",
              "      <td>Emacs;Helix</td>\n",
              "      <td>Individual contributor</td>\n",
              "      <td>23.0</td>\n",
              "      <td>DevOps function;Microservices;Automated testing;Observability tools;Innersource initiative;Developer portal or other central places to find tools/services;Continuous integration (CI) and (more often) continuous delivery</td>\n",
              "      <td>Information Services, IT, Software Development, or other Technology</td>\n",
              "    </tr>\n",
              "    <tr>\n",
              "      <th>3</th>\n",
              "      <td>I am a developer by profession</td>\n",
              "      <td>Employed, full-time</td>\n",
              "      <td>Hybrid (some remote, some in-person)</td>\n",
              "      <td>Hobby</td>\n",
              "      <td>Bachelor’s degree (B.A., B.S., B.Eng., etc.)</td>\n",
              "      <td>Colleague;Friend or family member;Other online resources (e.g., videos, blogs, forum);School (i.e., University, College, etc)</td>\n",
              "      <td>Formal documentation provided by the owner of the tech;Blogs with tips and tricks;Auditory material (e.g., podcasts);Written Tutorials;Stack Overflow;Interactive tutorial</td>\n",
              "      <td>NaN</td>\n",
              "      <td>12</td>\n",
              "      <td>7</td>\n",
              "      <td>...</td>\n",
              "      <td>NaN</td>\n",
              "      <td>NaN</td>\n",
              "      <td>Homebrew;npm;Vite;Webpack;Yarn</td>\n",
              "      <td>Homebrew;npm;Vite</td>\n",
              "      <td>IntelliJ IDEA;Vim;Visual Studio Code;WebStorm</td>\n",
              "      <td>IntelliJ IDEA;Vim;WebStorm</td>\n",
              "      <td>Individual contributor</td>\n",
              "      <td>7.0</td>\n",
              "      <td>Automated testing;Continuous integration (CI) and (more often) continuous delivery</td>\n",
              "      <td>NaN</td>\n",
              "    </tr>\n",
              "    <tr>\n",
              "      <th>4</th>\n",
              "      <td>I am a developer by profession</td>\n",
              "      <td>Employed, full-time;Independent contractor, freelancer, or self-employed</td>\n",
              "      <td>Remote</td>\n",
              "      <td>Hobby;Contribute to open-source projects;Professional development or self-paced learning from online courses</td>\n",
              "      <td>Bachelor’s degree (B.A., B.S., B.Eng., etc.)</td>\n",
              "      <td>Books / Physical media;Online Courses or Certification;Other online resources (e.g., videos, blogs, forum);School (i.e., University, College, etc)</td>\n",
              "      <td>Formal documentation provided by the owner of the tech;Blogs with tips and tricks;Books;How-to videos;Video-based Online Courses;Online challenges (e.g., daily or weekly coding challenges);Written Tutorials;Click to write Choice 20;Interactive tutorial;Certification videos</td>\n",
              "      <td>Other;Codecademy;edX</td>\n",
              "      <td>6</td>\n",
              "      <td>4</td>\n",
              "      <td>...</td>\n",
              "      <td>NaN</td>\n",
              "      <td>NaN</td>\n",
              "      <td>Docker;npm;Webpack;Yarn</td>\n",
              "      <td>Docker;npm;Yarn</td>\n",
              "      <td>Vim;Visual Studio Code</td>\n",
              "      <td>Vim;Visual Studio Code</td>\n",
              "      <td>Individual contributor</td>\n",
              "      <td>6.0</td>\n",
              "      <td>Microservices;Automated testing;Observability tools;Continuous integration (CI) and (more often) continuous delivery</td>\n",
              "      <td>Other</td>\n",
              "    </tr>\n",
              "  </tbody>\n",
              "</table>\n",
              "<p>5 rows × 30 columns</p>\n",
              "</div>\n",
              "    <div class=\"colab-df-buttons\">\n",
              "\n",
              "  <div class=\"colab-df-container\">\n",
              "    <button class=\"colab-df-convert\" onclick=\"convertToInteractive('df-9a45a29b-d35e-480b-9f73-f6c75e4ed650')\"\n",
              "            title=\"Convert this dataframe to an interactive table.\"\n",
              "            style=\"display:none;\">\n",
              "\n",
              "  <svg xmlns=\"http://www.w3.org/2000/svg\" height=\"24px\" viewBox=\"0 -960 960 960\">\n",
              "    <path d=\"M120-120v-720h720v720H120Zm60-500h600v-160H180v160Zm220 220h160v-160H400v160Zm0 220h160v-160H400v160ZM180-400h160v-160H180v160Zm440 0h160v-160H620v160ZM180-180h160v-160H180v160Zm440 0h160v-160H620v160Z\"/>\n",
              "  </svg>\n",
              "    </button>\n",
              "\n",
              "  <style>\n",
              "    .colab-df-container {\n",
              "      display:flex;\n",
              "      gap: 12px;\n",
              "    }\n",
              "\n",
              "    .colab-df-convert {\n",
              "      background-color: #E8F0FE;\n",
              "      border: none;\n",
              "      border-radius: 50%;\n",
              "      cursor: pointer;\n",
              "      display: none;\n",
              "      fill: #1967D2;\n",
              "      height: 32px;\n",
              "      padding: 0 0 0 0;\n",
              "      width: 32px;\n",
              "    }\n",
              "\n",
              "    .colab-df-convert:hover {\n",
              "      background-color: #E2EBFA;\n",
              "      box-shadow: 0px 1px 2px rgba(60, 64, 67, 0.3), 0px 1px 3px 1px rgba(60, 64, 67, 0.15);\n",
              "      fill: #174EA6;\n",
              "    }\n",
              "\n",
              "    .colab-df-buttons div {\n",
              "      margin-bottom: 4px;\n",
              "    }\n",
              "\n",
              "    [theme=dark] .colab-df-convert {\n",
              "      background-color: #3B4455;\n",
              "      fill: #D2E3FC;\n",
              "    }\n",
              "\n",
              "    [theme=dark] .colab-df-convert:hover {\n",
              "      background-color: #434B5C;\n",
              "      box-shadow: 0px 1px 3px 1px rgba(0, 0, 0, 0.15);\n",
              "      filter: drop-shadow(0px 1px 2px rgba(0, 0, 0, 0.3));\n",
              "      fill: #FFFFFF;\n",
              "    }\n",
              "  </style>\n",
              "\n",
              "    <script>\n",
              "      const buttonEl =\n",
              "        document.querySelector('#df-9a45a29b-d35e-480b-9f73-f6c75e4ed650 button.colab-df-convert');\n",
              "      buttonEl.style.display =\n",
              "        google.colab.kernel.accessAllowed ? 'block' : 'none';\n",
              "\n",
              "      async function convertToInteractive(key) {\n",
              "        const element = document.querySelector('#df-9a45a29b-d35e-480b-9f73-f6c75e4ed650');\n",
              "        const dataTable =\n",
              "          await google.colab.kernel.invokeFunction('convertToInteractive',\n",
              "                                                    [key], {});\n",
              "        if (!dataTable) return;\n",
              "\n",
              "        const docLinkHtml = 'Like what you see? Visit the ' +\n",
              "          '<a target=\"_blank\" href=https://colab.research.google.com/notebooks/data_table.ipynb>data table notebook</a>'\n",
              "          + ' to learn more about interactive tables.';\n",
              "        element.innerHTML = '';\n",
              "        dataTable['output_type'] = 'display_data';\n",
              "        await google.colab.output.renderOutput(dataTable, element);\n",
              "        const docLink = document.createElement('div');\n",
              "        docLink.innerHTML = docLinkHtml;\n",
              "        element.appendChild(docLink);\n",
              "      }\n",
              "    </script>\n",
              "  </div>\n",
              "\n",
              "\n",
              "<div id=\"df-408dc3d8-d8df-4928-9c4d-14fa916f6167\">\n",
              "  <button class=\"colab-df-quickchart\" onclick=\"quickchart('df-408dc3d8-d8df-4928-9c4d-14fa916f6167')\"\n",
              "            title=\"Suggest charts\"\n",
              "            style=\"display:none;\">\n",
              "\n",
              "<svg xmlns=\"http://www.w3.org/2000/svg\" height=\"24px\"viewBox=\"0 0 24 24\"\n",
              "     width=\"24px\">\n",
              "    <g>\n",
              "        <path d=\"M19 3H5c-1.1 0-2 .9-2 2v14c0 1.1.9 2 2 2h14c1.1 0 2-.9 2-2V5c0-1.1-.9-2-2-2zM9 17H7v-7h2v7zm4 0h-2V7h2v10zm4 0h-2v-4h2v4z\"/>\n",
              "    </g>\n",
              "</svg>\n",
              "  </button>\n",
              "\n",
              "<style>\n",
              "  .colab-df-quickchart {\n",
              "      --bg-color: #E8F0FE;\n",
              "      --fill-color: #1967D2;\n",
              "      --hover-bg-color: #E2EBFA;\n",
              "      --hover-fill-color: #174EA6;\n",
              "      --disabled-fill-color: #AAA;\n",
              "      --disabled-bg-color: #DDD;\n",
              "  }\n",
              "\n",
              "  [theme=dark] .colab-df-quickchart {\n",
              "      --bg-color: #3B4455;\n",
              "      --fill-color: #D2E3FC;\n",
              "      --hover-bg-color: #434B5C;\n",
              "      --hover-fill-color: #FFFFFF;\n",
              "      --disabled-bg-color: #3B4455;\n",
              "      --disabled-fill-color: #666;\n",
              "  }\n",
              "\n",
              "  .colab-df-quickchart {\n",
              "    background-color: var(--bg-color);\n",
              "    border: none;\n",
              "    border-radius: 50%;\n",
              "    cursor: pointer;\n",
              "    display: none;\n",
              "    fill: var(--fill-color);\n",
              "    height: 32px;\n",
              "    padding: 0;\n",
              "    width: 32px;\n",
              "  }\n",
              "\n",
              "  .colab-df-quickchart:hover {\n",
              "    background-color: var(--hover-bg-color);\n",
              "    box-shadow: 0 1px 2px rgba(60, 64, 67, 0.3), 0 1px 3px 1px rgba(60, 64, 67, 0.15);\n",
              "    fill: var(--button-hover-fill-color);\n",
              "  }\n",
              "\n",
              "  .colab-df-quickchart-complete:disabled,\n",
              "  .colab-df-quickchart-complete:disabled:hover {\n",
              "    background-color: var(--disabled-bg-color);\n",
              "    fill: var(--disabled-fill-color);\n",
              "    box-shadow: none;\n",
              "  }\n",
              "\n",
              "  .colab-df-spinner {\n",
              "    border: 2px solid var(--fill-color);\n",
              "    border-color: transparent;\n",
              "    border-bottom-color: var(--fill-color);\n",
              "    animation:\n",
              "      spin 1s steps(1) infinite;\n",
              "  }\n",
              "\n",
              "  @keyframes spin {\n",
              "    0% {\n",
              "      border-color: transparent;\n",
              "      border-bottom-color: var(--fill-color);\n",
              "      border-left-color: var(--fill-color);\n",
              "    }\n",
              "    20% {\n",
              "      border-color: transparent;\n",
              "      border-left-color: var(--fill-color);\n",
              "      border-top-color: var(--fill-color);\n",
              "    }\n",
              "    30% {\n",
              "      border-color: transparent;\n",
              "      border-left-color: var(--fill-color);\n",
              "      border-top-color: var(--fill-color);\n",
              "      border-right-color: var(--fill-color);\n",
              "    }\n",
              "    40% {\n",
              "      border-color: transparent;\n",
              "      border-right-color: var(--fill-color);\n",
              "      border-top-color: var(--fill-color);\n",
              "    }\n",
              "    60% {\n",
              "      border-color: transparent;\n",
              "      border-right-color: var(--fill-color);\n",
              "    }\n",
              "    80% {\n",
              "      border-color: transparent;\n",
              "      border-right-color: var(--fill-color);\n",
              "      border-bottom-color: var(--fill-color);\n",
              "    }\n",
              "    90% {\n",
              "      border-color: transparent;\n",
              "      border-bottom-color: var(--fill-color);\n",
              "    }\n",
              "  }\n",
              "</style>\n",
              "\n",
              "  <script>\n",
              "    async function quickchart(key) {\n",
              "      const quickchartButtonEl =\n",
              "        document.querySelector('#' + key + ' button');\n",
              "      quickchartButtonEl.disabled = true;  // To prevent multiple clicks.\n",
              "      quickchartButtonEl.classList.add('colab-df-spinner');\n",
              "      try {\n",
              "        const charts = await google.colab.kernel.invokeFunction(\n",
              "            'suggestCharts', [key], {});\n",
              "      } catch (error) {\n",
              "        console.error('Error during call to suggestCharts:', error);\n",
              "      }\n",
              "      quickchartButtonEl.classList.remove('colab-df-spinner');\n",
              "      quickchartButtonEl.classList.add('colab-df-quickchart-complete');\n",
              "    }\n",
              "    (() => {\n",
              "      let quickchartButtonEl =\n",
              "        document.querySelector('#df-408dc3d8-d8df-4928-9c4d-14fa916f6167 button');\n",
              "      quickchartButtonEl.style.display =\n",
              "        google.colab.kernel.accessAllowed ? 'block' : 'none';\n",
              "    })();\n",
              "  </script>\n",
              "</div>\n",
              "    </div>\n",
              "  </div>\n"
            ],
            "application/vnd.google.colaboratory.intrinsic+json": {
              "type": "dataframe",
              "variable_name": "originalDF"
            }
          },
          "metadata": {},
          "execution_count": 10
        }
      ]
    },
    {
      "cell_type": "code",
      "source": [
        "df = originalDF.fillna(\"NA\")"
      ],
      "metadata": {
        "id": "wFLt6--pCQVi"
      },
      "execution_count": null,
      "outputs": []
    },
    {
      "cell_type": "code",
      "source": [
        "######## NO ###############\n",
        "# Get unique values for each column\n",
        "unique_values_per_column = {}\n",
        "\n",
        "for column in df.columns:\n",
        "    unique_values_per_column[column] = df[column].unique()\n",
        "\n",
        "# Print unique values for each column\n",
        "for column, unique_values in unique_values_per_column.items():\n",
        "    print(f\"Unique values for column '{column}':\")\n",
        "    print(unique_values)\n",
        "    print()"
      ],
      "metadata": {
        "id": "sIeW3ZCs27p_"
      },
      "execution_count": null,
      "outputs": []
    },
    {
      "cell_type": "code",
      "source": [
        "#One-Hot Encoding\n",
        "from sklearn.preprocessing import MultiLabelBinarizer\n",
        "# Identify columns with values separated by semi-colon\n",
        "semicolon_cols = [col for col in categorical_columns if any(';' in value for value in df[col])]\n",
        "\n",
        "# Apply one-hot encoding to identified columns\n",
        "for col in semicolon_cols:\n",
        "    # Split values into separate columns\n",
        "    df[col] = df[col].str.split(';')\n",
        "\n",
        "    # Initialize MultiLabelBinarizer\n",
        "    mlb = MultiLabelBinarizer()\n",
        "\n",
        "    # Set custom column names\n",
        "    mlb.fit(df[col])\n",
        "    mlb.classes_ = [f'{col}_{c}' for c in mlb.classes_]\n",
        "\n",
        "    # Apply one-hot encoding\n",
        "    encoded_categories = pd.DataFrame(mlb.transform(df[col]), columns=mlb.classes_, index=df.index)\n",
        "\n",
        "    # Concatenate the encoded columns with the original DataFrame\n",
        "    df = pd.concat([df, encoded_categories], axis=1)\n",
        "\n",
        "    # Drop the original column\n",
        "    df.drop(col, axis=1, inplace=True)\n",
        "\n",
        "print(df.columns)"
      ],
      "metadata": {
        "id": "OVhHWZgLASg_",
        "colab": {
          "base_uri": "https://localhost:8080/"
        },
        "outputId": "b33415a9-e495-45e6-d3a5-11da0fc25bde"
      },
      "execution_count": null,
      "outputs": [
        {
          "output_type": "stream",
          "name": "stderr",
          "text": [
            "/usr/local/lib/python3.10/dist-packages/sklearn/preprocessing/_label.py:895: UserWarning: unknown class(es) ['Bootstrapping a business', 'Contribute to open-source projects', 'Freelance/contract work', 'Hobby', 'I don’t code outside of work', 'NA', 'Other (please specify):', 'Professional development or self-paced learning from online courses', 'School or academic work'] will be ignored\n",
            "  warnings.warn(\n",
            "/usr/local/lib/python3.10/dist-packages/sklearn/preprocessing/_label.py:895: UserWarning: unknown class(es) ['BigQuery', 'Cassandra', 'Clickhouse', 'Cloud Firestore', 'Cockroachdb', 'Cosmos DB', 'Couch DB', 'Couchbase', 'Datomic', 'DuckDB', 'Dynamodb', 'Elasticsearch', 'Firebase Realtime Database', 'Firebird', 'H2', 'IBM DB2', 'InfluxDB', 'MariaDB', 'Microsoft Access', 'Microsoft SQL Server', 'MongoDB', 'MySQL', 'NA', 'Neo4J', 'Oracle', 'PostgreSQL', 'RavenDB', 'Redis', 'SQLite', 'Snowflake', 'Solr', 'Supabase', 'TiDB'] will be ignored\n",
            "  warnings.warn(\n",
            "/usr/local/lib/python3.10/dist-packages/sklearn/preprocessing/_label.py:895: UserWarning: unknown class(es) ['BigQuery', 'Cassandra', 'Clickhouse', 'Cloud Firestore', 'Cockroachdb', 'Cosmos DB', 'Couch DB', 'Couchbase', 'Datomic', 'DuckDB', 'Dynamodb', 'Elasticsearch', 'Firebase Realtime Database', 'Firebird', 'H2', 'IBM DB2', 'InfluxDB', 'MariaDB', 'Microsoft Access', 'Microsoft SQL Server', 'MongoDB', 'MySQL', 'NA', 'Neo4J', 'Oracle', 'PostgreSQL', 'RavenDB', 'Redis', 'SQLite', 'Snowflake', 'Solr', 'Supabase', 'TiDB'] will be ignored\n",
            "  warnings.warn(\n",
            "/usr/local/lib/python3.10/dist-packages/sklearn/preprocessing/_label.py:895: UserWarning: unknown class(es) ['Employed, full-time', 'Employed, part-time', 'I prefer not to say', 'Independent contractor, freelancer, or self-employed', 'NA', 'Not employed, and not looking for work', 'Not employed, but looking for work', 'Retired', 'Student, full-time', 'Student, part-time'] will be ignored\n",
            "  warnings.warn(\n",
            "/usr/local/lib/python3.10/dist-packages/sklearn/preprocessing/_label.py:895: UserWarning: unknown class(es) ['APL', 'Ada', 'Apex', 'Assembly', 'Bash/Shell (all shells)', 'C', 'C#', 'C++', 'Clojure', 'Cobol', 'Crystal', 'Dart', 'Delphi', 'Elixir', 'Erlang', 'F#', 'Flow', 'Fortran', 'GDScript', 'Go', 'Groovy', 'HTML/CSS', 'Haskell', 'Java', 'JavaScript', 'Julia', 'Kotlin', 'Lisp', 'Lua', 'MATLAB', 'NA', 'Nim', 'OCaml', 'Objective-C', 'PHP', 'Perl', 'PowerShell', 'Prolog', 'Python', 'R', 'Raku', 'Ruby', 'Rust', 'SAS', 'SQL', 'Scala', 'Solidity', 'Swift', 'TypeScript', 'VBA', 'Visual Basic (.Net)', 'Zig'] will be ignored\n",
            "  warnings.warn(\n",
            "/usr/local/lib/python3.10/dist-packages/sklearn/preprocessing/_label.py:895: UserWarning: unknown class(es) ['APL', 'Ada', 'Apex', 'Assembly', 'Bash/Shell (all shells)', 'C', 'C#', 'C++', 'Clojure', 'Cobol', 'Crystal', 'Dart', 'Delphi', 'Elixir', 'Erlang', 'F#', 'Flow', 'Fortran', 'GDScript', 'Go', 'Groovy', 'HTML/CSS', 'Haskell', 'Java', 'JavaScript', 'Julia', 'Kotlin', 'Lisp', 'Lua', 'MATLAB', 'NA', 'Nim', 'OCaml', 'Objective-C', 'PHP', 'Perl', 'PowerShell', 'Prolog', 'Python', 'R', 'Raku', 'Ruby', 'Rust', 'SAS', 'SQL', 'Scala', 'Solidity', 'Swift', 'TypeScript', 'VBA', 'Visual Basic (.Net)', 'Zig'] will be ignored\n",
            "  warnings.warn(\n",
            "/usr/local/lib/python3.10/dist-packages/sklearn/preprocessing/_label.py:895: UserWarning: unknown class(es) ['Books / Physical media', 'Coding Bootcamp', 'Colleague', 'Friend or family member', 'Hackathons (virtual or in-person)', 'NA', 'On the job training', 'Online Courses or Certification', 'Other (please specify):', 'Other online resources (e.g., videos, blogs, forum)', 'School (i.e., University, College, etc)'] will be ignored\n",
            "  warnings.warn(\n",
            "/usr/local/lib/python3.10/dist-packages/sklearn/preprocessing/_label.py:895: UserWarning: unknown class(es) ['Codecademy', 'Coursera', 'NA', 'Other', 'Pluralsight', 'Skillsoft', 'Udacity', 'Udemy', 'edX'] will be ignored\n",
            "  warnings.warn(\n",
            "/usr/local/lib/python3.10/dist-packages/sklearn/preprocessing/_label.py:895: UserWarning: unknown class(es) ['Auditory material (e.g., podcasts)', 'Blogs with tips and tricks', 'Books', 'Certification videos', 'Click to write Choice 20', 'Formal documentation provided by the owner of the tech', 'How-to videos', 'Interactive tutorial', 'NA', 'Online challenges (e.g., daily or weekly coding challenges)', 'Other (Please specify):', 'Programming Games', 'Recorded coding sessions', 'Stack Overflow', 'Video-based Online Courses', 'Written Tutorials', 'Written-based Online Courses'] will be ignored\n",
            "  warnings.warn(\n",
            "/usr/local/lib/python3.10/dist-packages/sklearn/preprocessing/_label.py:895: UserWarning: unknown class(es) ['.NET (5+) ', '.NET Framework (1.0 - 4.8)', '.NET MAUI', 'Apache Kafka', 'Apache Spark', 'CUDA', 'Capacitor', 'Cordova', 'Electron', 'Flutter', 'GTK', 'Hadoop', 'Hugging Face Transformers', 'Ionic', 'JAX', 'Keras', 'Ktor', 'MFC', 'Micronaut', 'NA', 'NumPy', 'OpenGL', 'Opencv', 'Pandas', 'Qt', 'Quarkus', 'RabbitMQ', 'React Native', 'Scikit-Learn', 'Spring Framework', 'SwiftUI', 'Tauri', 'TensorFlow', 'Tidyverse', 'Torch/PyTorch', 'Uno Platform', 'Xamarin'] will be ignored\n",
            "  warnings.warn(\n",
            "/usr/local/lib/python3.10/dist-packages/sklearn/preprocessing/_label.py:895: UserWarning: unknown class(es) ['.NET (5+) ', '.NET Framework (1.0 - 4.8)', '.NET MAUI', 'Apache Kafka', 'Apache Spark', 'CUDA', 'Capacitor', 'Cordova', 'Electron', 'Flutter', 'GTK', 'Hadoop', 'Hugging Face Transformers', 'Ionic', 'JAX', 'Keras', 'Ktor', 'MFC', 'Micronaut', 'NA', 'NumPy', 'OpenGL', 'Opencv', 'Pandas', 'Qt', 'Quarkus', 'RabbitMQ', 'React Native', 'Scikit-Learn', 'Spring Framework', 'SwiftUI', 'Tauri', 'TensorFlow', 'Tidyverse', 'Torch/PyTorch', 'Uno Platform', 'Xamarin'] will be ignored\n",
            "  warnings.warn(\n",
            "/usr/local/lib/python3.10/dist-packages/sklearn/preprocessing/_label.py:895: UserWarning: unknown class(es) ['Android Studio', 'Atom', 'BBEdit', 'CLion', 'Code::Blocks', 'DataGrip', 'Eclipse', 'Emacs', 'Fleet', 'Geany', 'Goland', 'Helix', 'IPython', 'IntelliJ IDEA', 'Jupyter Notebook/JupyterLab', 'Kate', 'Micro', 'NA', 'Nano', 'Neovim', 'Netbeans', 'Notepad++', 'Nova', 'PhpStorm', 'PyCharm', 'Qt Creator', 'RStudio', 'Rad Studio (Delphi, C++ Builder)', 'Rider', 'RubyMine', 'Spyder', 'Sublime Text', 'TextMate', 'VSCodium', 'Vim', 'Visual Studio', 'Visual Studio Code', 'WebStorm', 'Xcode', 'condo'] will be ignored\n",
            "  warnings.warn(\n",
            "/usr/local/lib/python3.10/dist-packages/sklearn/preprocessing/_label.py:895: UserWarning: unknown class(es) ['Android Studio', 'Atom', 'BBEdit', 'CLion', 'Code::Blocks', 'DataGrip', 'Eclipse', 'Emacs', 'Fleet', 'Geany', 'Goland', 'Helix', 'IPython', 'IntelliJ IDEA', 'Jupyter Notebook/JupyterLab', 'Kate', 'Micro', 'NA', 'Nano', 'Neovim', 'Netbeans', 'Notepad++', 'Nova', 'PhpStorm', 'PyCharm', 'Qt Creator', 'RStudio', 'Rad Studio (Delphi, C++ Builder)', 'Rider', 'RubyMine', 'Spyder', 'Sublime Text', 'TextMate', 'VSCodium', 'Vim', 'Visual Studio', 'Visual Studio Code', 'WebStorm', 'Xcode', 'condo'] will be ignored\n",
            "  warnings.warn(\n",
            "/usr/local/lib/python3.10/dist-packages/sklearn/preprocessing/_label.py:895: UserWarning: unknown class(es) ['Amazon Web Services (AWS)', 'Cloudflare', 'Colocation', 'Digital Ocean', 'Firebase', 'Fly.io', 'Google Cloud', 'Heroku', 'Hetzner', 'IBM Cloud Or Watson', 'Linode, now Akamai', 'Managed Hosting', 'Microsoft Azure', 'NA', 'Netlify', 'OVH', 'OpenShift', 'OpenStack', 'Oracle Cloud Infrastructure (OCI)', 'Render', 'Scaleway', 'VMware', 'Vercel', 'Vultr'] will be ignored\n",
            "  warnings.warn(\n",
            "/usr/local/lib/python3.10/dist-packages/sklearn/preprocessing/_label.py:895: UserWarning: unknown class(es) ['Amazon Web Services (AWS)', 'Cloudflare', 'Colocation', 'Digital Ocean', 'Firebase', 'Fly.io', 'Google Cloud', 'Heroku', 'Hetzner', 'IBM Cloud Or Watson', 'Linode, now Akamai', 'Managed Hosting', 'Microsoft Azure', 'NA', 'Netlify', 'OVH', 'OpenShift', 'OpenStack', 'Oracle Cloud Infrastructure (OCI)', 'Render', 'Scaleway', 'VMware', 'Vercel', 'Vultr'] will be ignored\n",
            "  warnings.warn(\n",
            "/usr/local/lib/python3.10/dist-packages/sklearn/preprocessing/_label.py:895: UserWarning: unknown class(es) ['AI-assisted technology tool(s)', 'Automated testing', 'Continuous integration (CI) and (more often) continuous delivery', 'DevOps function', 'Developer portal or other central places to find tools/services', 'Innersource initiative', 'Microservices', 'NA', 'None of these', 'Observability tools'] will be ignored\n",
            "  warnings.warn(\n",
            "/usr/local/lib/python3.10/dist-packages/sklearn/preprocessing/_label.py:895: UserWarning: unknown class(es) ['APT', 'Ansible', 'Ant', 'Boost.Test', 'Bun', 'CMake', 'CUTE', 'Cargo', 'Catch2', 'Chef', 'Chocolatey', 'Composer', 'Dagger', 'Docker', 'ELFspy', 'GNU GCC', 'Godot', 'Google Test', 'Gradle', 'Homebrew', 'Kubernetes', \"LLVM's Clang\", 'MSBuild', 'MSVC', 'Make', 'Maven (build tool)', 'Meson', 'NA', 'Ninja', 'Nix', 'NuGet', 'Pacman', 'Pip', 'Podman', 'Pulumi', 'Puppet', 'QMake', 'SCons', 'Terraform', 'Unity 3D', 'Unreal Engine', 'Visual Studio Solution', 'Vite', 'Wasmer', 'Webpack', 'Yarn', 'bandit', 'build2', 'cppunit', 'doctest', 'lest', 'liblittletest', 'npm', 'pnpm', 'snitch', 'tunit'] will be ignored\n",
            "  warnings.warn(\n",
            "/usr/local/lib/python3.10/dist-packages/sklearn/preprocessing/_label.py:895: UserWarning: unknown class(es) ['APT', 'Ansible', 'Ant', 'Boost.Test', 'Bun', 'CMake', 'CUTE', 'Cargo', 'Catch2', 'Chef', 'Chocolatey', 'Composer', 'Dagger', 'Docker', 'ELFspy', 'GNU GCC', 'Godot', 'Google Test', 'Gradle', 'Homebrew', 'Kubernetes', \"LLVM's Clang\", 'MSBuild', 'MSVC', 'Make', 'Maven (build tool)', 'Meson', 'NA', 'Ninja', 'Nix', 'NuGet', 'Pacman', 'Pip', 'Podman', 'Pulumi', 'Puppet', 'QMake', 'SCons', 'Terraform', 'Unity 3D', 'Unreal Engine', 'Visual Studio Solution', 'Vite', 'Wasmer', 'Webpack', 'Yarn', 'bandit', 'build2', 'cppunit', 'doctest', 'lest', 'liblittletest', 'npm', 'pnpm', 'snitch', 'tunit'] will be ignored\n",
            "  warnings.warn(\n",
            "/usr/local/lib/python3.10/dist-packages/sklearn/preprocessing/_label.py:895: UserWarning: unknown class(es) ['ASP.NET', 'ASP.NET CORE', 'Angular', 'AngularJS', 'Blazor', 'CodeIgniter', 'Deno', 'Django', 'Drupal', 'Elm', 'Express', 'FastAPI', 'Fastify', 'Flask', 'Gatsby', 'Laravel', 'Lit', 'NA', 'NestJS', 'Next.js', 'Node.js', 'Nuxt.js', 'Phoenix', 'Play Framework', 'Qwik', 'React', 'Remix', 'Ruby on Rails', 'Solid.js', 'Spring Boot', 'Svelte', 'Symfony', 'Vue.js', 'WordPress', 'jQuery'] will be ignored\n",
            "  warnings.warn(\n",
            "/usr/local/lib/python3.10/dist-packages/sklearn/preprocessing/_label.py:895: UserWarning: unknown class(es) ['ASP.NET', 'ASP.NET CORE', 'Angular', 'AngularJS', 'Blazor', 'CodeIgniter', 'Deno', 'Django', 'Drupal', 'Elm', 'Express', 'FastAPI', 'Fastify', 'Flask', 'Gatsby', 'Laravel', 'Lit', 'NA', 'NestJS', 'Next.js', 'Node.js', 'Nuxt.js', 'Phoenix', 'Play Framework', 'Qwik', 'React', 'Remix', 'Ruby on Rails', 'Solid.js', 'Spring Boot', 'Svelte', 'Symfony', 'Vue.js', 'WordPress', 'jQuery'] will be ignored\n",
            "  warnings.warn(\n"
          ]
        },
        {
          "output_type": "stream",
          "name": "stdout",
          "text": [
            "Index(['MainBranch', 'RemoteWork', 'EdLevel', 'YearsCode', 'YearsCodePro',\n",
            "       'DevType', 'Country', 'ICorPM', 'WorkExp', 'Industry',\n",
            "       ...\n",
            "       'WebframeWantToWorkWith_React', 'WebframeWantToWorkWith_Remix',\n",
            "       'WebframeWantToWorkWith_Ruby on Rails',\n",
            "       'WebframeWantToWorkWith_Solid.js', 'WebframeWantToWorkWith_Spring Boot',\n",
            "       'WebframeWantToWorkWith_Svelte', 'WebframeWantToWorkWith_Symfony',\n",
            "       'WebframeWantToWorkWith_Vue.js', 'WebframeWantToWorkWith_WordPress',\n",
            "       'WebframeWantToWorkWith_jQuery'],\n",
            "      dtype='object', length=630)\n"
          ]
        }
      ]
    },
    {
      "cell_type": "code",
      "source": [
        "remaining_categorical_columns = list(set(categorical_columns) - set(semicolon_cols))\n",
        "remaining_categorical_columns"
      ],
      "metadata": {
        "colab": {
          "base_uri": "https://localhost:8080/"
        },
        "id": "6xk4acifIgrp",
        "outputId": "f206ff8a-49bb-46d8-e13b-a9d0ae73a33d"
      },
      "execution_count": null,
      "outputs": [
        {
          "output_type": "execute_result",
          "data": {
            "text/plain": [
              "['Country',\n",
              " 'EdLevel',\n",
              " 'RemoteWork',\n",
              " 'MainBranch',\n",
              " 'Industry',\n",
              " 'ICorPM',\n",
              " 'DevType']"
            ]
          },
          "metadata": {},
          "execution_count": 13
        }
      ]
    },
    {
      "cell_type": "code",
      "source": [
        "# from sklearn.compose import ColumnTransformer\n",
        "# from sklearn.preprocessing import OneHotEncoder\n",
        "\n",
        "# # Create an instance of One-hot-encoder\n",
        "# enc = OneHotEncoder()\n",
        "\n",
        "# enc_data = pd.DataFrame(enc.fit_transform(\n",
        "#     df[remaining_categorical_columns]).toarray())\n",
        "\n",
        "\n",
        "# df = df.join(enc_data)\n",
        "\n",
        "\n",
        "df = pd.get_dummies(df, columns = remaining_categorical_columns,drop_first=True)"
      ],
      "metadata": {
        "id": "Wgr9SAdVGMGf"
      },
      "execution_count": null,
      "outputs": []
    },
    {
      "cell_type": "code",
      "source": [
        "print(df.columns.tolist())"
      ],
      "metadata": {
        "colab": {
          "base_uri": "https://localhost:8080/"
        },
        "id": "Qn4Bpbn9Cjm4",
        "outputId": "9ea238f9-a5ce-4028-8177-7c4f38794142"
      },
      "execution_count": null,
      "outputs": [
        {
          "output_type": "stream",
          "name": "stdout",
          "text": [
            "['YearsCode', 'YearsCodePro', 'WorkExp', 'CodingActivities_Bootstrapping a business', 'CodingActivities_Contribute to open-source projects', 'CodingActivities_Freelance/contract work', 'CodingActivities_Hobby', 'CodingActivities_I don’t code outside of work', 'CodingActivities_NA', 'CodingActivities_Other (please specify):', 'CodingActivities_Professional development or self-paced learning from online courses', 'CodingActivities_School or academic work', 'DatabaseHaveWorkedWith_BigQuery', 'DatabaseHaveWorkedWith_Cassandra', 'DatabaseHaveWorkedWith_Clickhouse', 'DatabaseHaveWorkedWith_Cloud Firestore', 'DatabaseHaveWorkedWith_Cockroachdb', 'DatabaseHaveWorkedWith_Cosmos DB', 'DatabaseHaveWorkedWith_Couch DB', 'DatabaseHaveWorkedWith_Couchbase', 'DatabaseHaveWorkedWith_Datomic', 'DatabaseHaveWorkedWith_DuckDB', 'DatabaseHaveWorkedWith_Dynamodb', 'DatabaseHaveWorkedWith_Elasticsearch', 'DatabaseHaveWorkedWith_Firebase Realtime Database', 'DatabaseHaveWorkedWith_Firebird', 'DatabaseHaveWorkedWith_H2', 'DatabaseHaveWorkedWith_IBM DB2', 'DatabaseHaveWorkedWith_InfluxDB', 'DatabaseHaveWorkedWith_MariaDB', 'DatabaseHaveWorkedWith_Microsoft Access', 'DatabaseHaveWorkedWith_Microsoft SQL Server', 'DatabaseHaveWorkedWith_MongoDB', 'DatabaseHaveWorkedWith_MySQL', 'DatabaseHaveWorkedWith_NA', 'DatabaseHaveWorkedWith_Neo4J', 'DatabaseHaveWorkedWith_Oracle', 'DatabaseHaveWorkedWith_PostgreSQL', 'DatabaseHaveWorkedWith_RavenDB', 'DatabaseHaveWorkedWith_Redis', 'DatabaseHaveWorkedWith_SQLite', 'DatabaseHaveWorkedWith_Snowflake', 'DatabaseHaveWorkedWith_Solr', 'DatabaseHaveWorkedWith_Supabase', 'DatabaseHaveWorkedWith_TiDB', 'DatabaseWantToWorkWith_BigQuery', 'DatabaseWantToWorkWith_Cassandra', 'DatabaseWantToWorkWith_Clickhouse', 'DatabaseWantToWorkWith_Cloud Firestore', 'DatabaseWantToWorkWith_Cockroachdb', 'DatabaseWantToWorkWith_Cosmos DB', 'DatabaseWantToWorkWith_Couch DB', 'DatabaseWantToWorkWith_Couchbase', 'DatabaseWantToWorkWith_Datomic', 'DatabaseWantToWorkWith_DuckDB', 'DatabaseWantToWorkWith_Dynamodb', 'DatabaseWantToWorkWith_Elasticsearch', 'DatabaseWantToWorkWith_Firebase Realtime Database', 'DatabaseWantToWorkWith_Firebird', 'DatabaseWantToWorkWith_H2', 'DatabaseWantToWorkWith_IBM DB2', 'DatabaseWantToWorkWith_InfluxDB', 'DatabaseWantToWorkWith_MariaDB', 'DatabaseWantToWorkWith_Microsoft Access', 'DatabaseWantToWorkWith_Microsoft SQL Server', 'DatabaseWantToWorkWith_MongoDB', 'DatabaseWantToWorkWith_MySQL', 'DatabaseWantToWorkWith_NA', 'DatabaseWantToWorkWith_Neo4J', 'DatabaseWantToWorkWith_Oracle', 'DatabaseWantToWorkWith_PostgreSQL', 'DatabaseWantToWorkWith_RavenDB', 'DatabaseWantToWorkWith_Redis', 'DatabaseWantToWorkWith_SQLite', 'DatabaseWantToWorkWith_Snowflake', 'DatabaseWantToWorkWith_Solr', 'DatabaseWantToWorkWith_Supabase', 'DatabaseWantToWorkWith_TiDB', 'Employment_Employed, full-time', 'Employment_Employed, part-time', 'Employment_I prefer not to say', 'Employment_Independent contractor, freelancer, or self-employed', 'Employment_NA', 'Employment_Not employed, and not looking for work', 'Employment_Not employed, but looking for work', 'Employment_Retired', 'Employment_Student, full-time', 'Employment_Student, part-time', 'LanguageHaveWorkedWith_APL', 'LanguageHaveWorkedWith_Ada', 'LanguageHaveWorkedWith_Apex', 'LanguageHaveWorkedWith_Assembly', 'LanguageHaveWorkedWith_Bash/Shell (all shells)', 'LanguageHaveWorkedWith_C', 'LanguageHaveWorkedWith_C#', 'LanguageHaveWorkedWith_C++', 'LanguageHaveWorkedWith_Clojure', 'LanguageHaveWorkedWith_Cobol', 'LanguageHaveWorkedWith_Crystal', 'LanguageHaveWorkedWith_Dart', 'LanguageHaveWorkedWith_Delphi', 'LanguageHaveWorkedWith_Elixir', 'LanguageHaveWorkedWith_Erlang', 'LanguageHaveWorkedWith_F#', 'LanguageHaveWorkedWith_Flow', 'LanguageHaveWorkedWith_Fortran', 'LanguageHaveWorkedWith_GDScript', 'LanguageHaveWorkedWith_Go', 'LanguageHaveWorkedWith_Groovy', 'LanguageHaveWorkedWith_HTML/CSS', 'LanguageHaveWorkedWith_Haskell', 'LanguageHaveWorkedWith_Java', 'LanguageHaveWorkedWith_JavaScript', 'LanguageHaveWorkedWith_Julia', 'LanguageHaveWorkedWith_Kotlin', 'LanguageHaveWorkedWith_Lisp', 'LanguageHaveWorkedWith_Lua', 'LanguageHaveWorkedWith_MATLAB', 'LanguageHaveWorkedWith_NA', 'LanguageHaveWorkedWith_Nim', 'LanguageHaveWorkedWith_OCaml', 'LanguageHaveWorkedWith_Objective-C', 'LanguageHaveWorkedWith_PHP', 'LanguageHaveWorkedWith_Perl', 'LanguageHaveWorkedWith_PowerShell', 'LanguageHaveWorkedWith_Prolog', 'LanguageHaveWorkedWith_Python', 'LanguageHaveWorkedWith_R', 'LanguageHaveWorkedWith_Raku', 'LanguageHaveWorkedWith_Ruby', 'LanguageHaveWorkedWith_Rust', 'LanguageHaveWorkedWith_SAS', 'LanguageHaveWorkedWith_SQL', 'LanguageHaveWorkedWith_Scala', 'LanguageHaveWorkedWith_Solidity', 'LanguageHaveWorkedWith_Swift', 'LanguageHaveWorkedWith_TypeScript', 'LanguageHaveWorkedWith_VBA', 'LanguageHaveWorkedWith_Visual Basic (.Net)', 'LanguageHaveWorkedWith_Zig', 'LanguageWantToWorkWith_APL', 'LanguageWantToWorkWith_Ada', 'LanguageWantToWorkWith_Apex', 'LanguageWantToWorkWith_Assembly', 'LanguageWantToWorkWith_Bash/Shell (all shells)', 'LanguageWantToWorkWith_C', 'LanguageWantToWorkWith_C#', 'LanguageWantToWorkWith_C++', 'LanguageWantToWorkWith_Clojure', 'LanguageWantToWorkWith_Cobol', 'LanguageWantToWorkWith_Crystal', 'LanguageWantToWorkWith_Dart', 'LanguageWantToWorkWith_Delphi', 'LanguageWantToWorkWith_Elixir', 'LanguageWantToWorkWith_Erlang', 'LanguageWantToWorkWith_F#', 'LanguageWantToWorkWith_Flow', 'LanguageWantToWorkWith_Fortran', 'LanguageWantToWorkWith_GDScript', 'LanguageWantToWorkWith_Go', 'LanguageWantToWorkWith_Groovy', 'LanguageWantToWorkWith_HTML/CSS', 'LanguageWantToWorkWith_Haskell', 'LanguageWantToWorkWith_Java', 'LanguageWantToWorkWith_JavaScript', 'LanguageWantToWorkWith_Julia', 'LanguageWantToWorkWith_Kotlin', 'LanguageWantToWorkWith_Lisp', 'LanguageWantToWorkWith_Lua', 'LanguageWantToWorkWith_MATLAB', 'LanguageWantToWorkWith_NA', 'LanguageWantToWorkWith_Nim', 'LanguageWantToWorkWith_OCaml', 'LanguageWantToWorkWith_Objective-C', 'LanguageWantToWorkWith_PHP', 'LanguageWantToWorkWith_Perl', 'LanguageWantToWorkWith_PowerShell', 'LanguageWantToWorkWith_Prolog', 'LanguageWantToWorkWith_Python', 'LanguageWantToWorkWith_R', 'LanguageWantToWorkWith_Raku', 'LanguageWantToWorkWith_Ruby', 'LanguageWantToWorkWith_Rust', 'LanguageWantToWorkWith_SAS', 'LanguageWantToWorkWith_SQL', 'LanguageWantToWorkWith_Scala', 'LanguageWantToWorkWith_Solidity', 'LanguageWantToWorkWith_Swift', 'LanguageWantToWorkWith_TypeScript', 'LanguageWantToWorkWith_VBA', 'LanguageWantToWorkWith_Visual Basic (.Net)', 'LanguageWantToWorkWith_Zig', 'LearnCode_Books / Physical media', 'LearnCode_Coding Bootcamp', 'LearnCode_Colleague', 'LearnCode_Friend or family member', 'LearnCode_Hackathons (virtual or in-person)', 'LearnCode_NA', 'LearnCode_On the job training', 'LearnCode_Online Courses or Certification', 'LearnCode_Other (please specify):', 'LearnCode_Other online resources (e.g., videos, blogs, forum)', 'LearnCode_School (i.e., University, College, etc)', 'LearnCodeCoursesCert_Codecademy', 'LearnCodeCoursesCert_Coursera', 'LearnCodeCoursesCert_NA', 'LearnCodeCoursesCert_Other', 'LearnCodeCoursesCert_Pluralsight', 'LearnCodeCoursesCert_Skillsoft', 'LearnCodeCoursesCert_Udacity', 'LearnCodeCoursesCert_Udemy', 'LearnCodeCoursesCert_edX', 'LearnCodeOnline_Auditory material (e.g., podcasts)', 'LearnCodeOnline_Blogs with tips and tricks', 'LearnCodeOnline_Books', 'LearnCodeOnline_Certification videos', 'LearnCodeOnline_Click to write Choice 20', 'LearnCodeOnline_Formal documentation provided by the owner of the tech', 'LearnCodeOnline_How-to videos', 'LearnCodeOnline_Interactive tutorial', 'LearnCodeOnline_NA', 'LearnCodeOnline_Online challenges (e.g., daily or weekly coding challenges)', 'LearnCodeOnline_Other (Please specify):', 'LearnCodeOnline_Programming Games', 'LearnCodeOnline_Recorded coding sessions', 'LearnCodeOnline_Stack Overflow', 'LearnCodeOnline_Video-based Online Courses', 'LearnCodeOnline_Written Tutorials', 'LearnCodeOnline_Written-based Online Courses', 'MiscTechHaveWorkedWith_.NET (5+) ', 'MiscTechHaveWorkedWith_.NET Framework (1.0 - 4.8)', 'MiscTechHaveWorkedWith_.NET MAUI', 'MiscTechHaveWorkedWith_Apache Kafka', 'MiscTechHaveWorkedWith_Apache Spark', 'MiscTechHaveWorkedWith_CUDA', 'MiscTechHaveWorkedWith_Capacitor', 'MiscTechHaveWorkedWith_Cordova', 'MiscTechHaveWorkedWith_Electron', 'MiscTechHaveWorkedWith_Flutter', 'MiscTechHaveWorkedWith_GTK', 'MiscTechHaveWorkedWith_Hadoop', 'MiscTechHaveWorkedWith_Hugging Face Transformers', 'MiscTechHaveWorkedWith_Ionic', 'MiscTechHaveWorkedWith_JAX', 'MiscTechHaveWorkedWith_Keras', 'MiscTechHaveWorkedWith_Ktor', 'MiscTechHaveWorkedWith_MFC', 'MiscTechHaveWorkedWith_Micronaut', 'MiscTechHaveWorkedWith_NA', 'MiscTechHaveWorkedWith_NumPy', 'MiscTechHaveWorkedWith_OpenGL', 'MiscTechHaveWorkedWith_Opencv', 'MiscTechHaveWorkedWith_Pandas', 'MiscTechHaveWorkedWith_Qt', 'MiscTechHaveWorkedWith_Quarkus', 'MiscTechHaveWorkedWith_RabbitMQ', 'MiscTechHaveWorkedWith_React Native', 'MiscTechHaveWorkedWith_Scikit-Learn', 'MiscTechHaveWorkedWith_Spring Framework', 'MiscTechHaveWorkedWith_SwiftUI', 'MiscTechHaveWorkedWith_Tauri', 'MiscTechHaveWorkedWith_TensorFlow', 'MiscTechHaveWorkedWith_Tidyverse', 'MiscTechHaveWorkedWith_Torch/PyTorch', 'MiscTechHaveWorkedWith_Uno Platform', 'MiscTechHaveWorkedWith_Xamarin', 'MiscTechWantToWorkWith_.NET (5+) ', 'MiscTechWantToWorkWith_.NET Framework (1.0 - 4.8)', 'MiscTechWantToWorkWith_.NET MAUI', 'MiscTechWantToWorkWith_Apache Kafka', 'MiscTechWantToWorkWith_Apache Spark', 'MiscTechWantToWorkWith_CUDA', 'MiscTechWantToWorkWith_Capacitor', 'MiscTechWantToWorkWith_Cordova', 'MiscTechWantToWorkWith_Electron', 'MiscTechWantToWorkWith_Flutter', 'MiscTechWantToWorkWith_GTK', 'MiscTechWantToWorkWith_Hadoop', 'MiscTechWantToWorkWith_Hugging Face Transformers', 'MiscTechWantToWorkWith_Ionic', 'MiscTechWantToWorkWith_JAX', 'MiscTechWantToWorkWith_Keras', 'MiscTechWantToWorkWith_Ktor', 'MiscTechWantToWorkWith_MFC', 'MiscTechWantToWorkWith_Micronaut', 'MiscTechWantToWorkWith_NA', 'MiscTechWantToWorkWith_NumPy', 'MiscTechWantToWorkWith_OpenGL', 'MiscTechWantToWorkWith_Opencv', 'MiscTechWantToWorkWith_Pandas', 'MiscTechWantToWorkWith_Qt', 'MiscTechWantToWorkWith_Quarkus', 'MiscTechWantToWorkWith_RabbitMQ', 'MiscTechWantToWorkWith_React Native', 'MiscTechWantToWorkWith_Scikit-Learn', 'MiscTechWantToWorkWith_Spring Framework', 'MiscTechWantToWorkWith_SwiftUI', 'MiscTechWantToWorkWith_Tauri', 'MiscTechWantToWorkWith_TensorFlow', 'MiscTechWantToWorkWith_Tidyverse', 'MiscTechWantToWorkWith_Torch/PyTorch', 'MiscTechWantToWorkWith_Uno Platform', 'MiscTechWantToWorkWith_Xamarin', 'NEWCollabToolsHaveWorkedWith_Android Studio', 'NEWCollabToolsHaveWorkedWith_Atom', 'NEWCollabToolsHaveWorkedWith_BBEdit', 'NEWCollabToolsHaveWorkedWith_CLion', 'NEWCollabToolsHaveWorkedWith_Code::Blocks', 'NEWCollabToolsHaveWorkedWith_DataGrip', 'NEWCollabToolsHaveWorkedWith_Eclipse', 'NEWCollabToolsHaveWorkedWith_Emacs', 'NEWCollabToolsHaveWorkedWith_Fleet', 'NEWCollabToolsHaveWorkedWith_Geany', 'NEWCollabToolsHaveWorkedWith_Goland', 'NEWCollabToolsHaveWorkedWith_Helix', 'NEWCollabToolsHaveWorkedWith_IPython', 'NEWCollabToolsHaveWorkedWith_IntelliJ IDEA', 'NEWCollabToolsHaveWorkedWith_Jupyter Notebook/JupyterLab', 'NEWCollabToolsHaveWorkedWith_Kate', 'NEWCollabToolsHaveWorkedWith_Micro', 'NEWCollabToolsHaveWorkedWith_NA', 'NEWCollabToolsHaveWorkedWith_Nano', 'NEWCollabToolsHaveWorkedWith_Neovim', 'NEWCollabToolsHaveWorkedWith_Netbeans', 'NEWCollabToolsHaveWorkedWith_Notepad++', 'NEWCollabToolsHaveWorkedWith_Nova', 'NEWCollabToolsHaveWorkedWith_PhpStorm', 'NEWCollabToolsHaveWorkedWith_PyCharm', 'NEWCollabToolsHaveWorkedWith_Qt Creator', 'NEWCollabToolsHaveWorkedWith_RStudio', 'NEWCollabToolsHaveWorkedWith_Rad Studio (Delphi, C++ Builder)', 'NEWCollabToolsHaveWorkedWith_Rider', 'NEWCollabToolsHaveWorkedWith_RubyMine', 'NEWCollabToolsHaveWorkedWith_Spyder', 'NEWCollabToolsHaveWorkedWith_Sublime Text', 'NEWCollabToolsHaveWorkedWith_TextMate', 'NEWCollabToolsHaveWorkedWith_VSCodium', 'NEWCollabToolsHaveWorkedWith_Vim', 'NEWCollabToolsHaveWorkedWith_Visual Studio', 'NEWCollabToolsHaveWorkedWith_Visual Studio Code', 'NEWCollabToolsHaveWorkedWith_WebStorm', 'NEWCollabToolsHaveWorkedWith_Xcode', 'NEWCollabToolsHaveWorkedWith_condo', 'NEWCollabToolsWantToWorkWith_Android Studio', 'NEWCollabToolsWantToWorkWith_Atom', 'NEWCollabToolsWantToWorkWith_BBEdit', 'NEWCollabToolsWantToWorkWith_CLion', 'NEWCollabToolsWantToWorkWith_Code::Blocks', 'NEWCollabToolsWantToWorkWith_DataGrip', 'NEWCollabToolsWantToWorkWith_Eclipse', 'NEWCollabToolsWantToWorkWith_Emacs', 'NEWCollabToolsWantToWorkWith_Fleet', 'NEWCollabToolsWantToWorkWith_Geany', 'NEWCollabToolsWantToWorkWith_Goland', 'NEWCollabToolsWantToWorkWith_Helix', 'NEWCollabToolsWantToWorkWith_IPython', 'NEWCollabToolsWantToWorkWith_IntelliJ IDEA', 'NEWCollabToolsWantToWorkWith_Jupyter Notebook/JupyterLab', 'NEWCollabToolsWantToWorkWith_Kate', 'NEWCollabToolsWantToWorkWith_Micro', 'NEWCollabToolsWantToWorkWith_NA', 'NEWCollabToolsWantToWorkWith_Nano', 'NEWCollabToolsWantToWorkWith_Neovim', 'NEWCollabToolsWantToWorkWith_Netbeans', 'NEWCollabToolsWantToWorkWith_Notepad++', 'NEWCollabToolsWantToWorkWith_Nova', 'NEWCollabToolsWantToWorkWith_PhpStorm', 'NEWCollabToolsWantToWorkWith_PyCharm', 'NEWCollabToolsWantToWorkWith_Qt Creator', 'NEWCollabToolsWantToWorkWith_RStudio', 'NEWCollabToolsWantToWorkWith_Rad Studio (Delphi, C++ Builder)', 'NEWCollabToolsWantToWorkWith_Rider', 'NEWCollabToolsWantToWorkWith_RubyMine', 'NEWCollabToolsWantToWorkWith_Spyder', 'NEWCollabToolsWantToWorkWith_Sublime Text', 'NEWCollabToolsWantToWorkWith_TextMate', 'NEWCollabToolsWantToWorkWith_VSCodium', 'NEWCollabToolsWantToWorkWith_Vim', 'NEWCollabToolsWantToWorkWith_Visual Studio', 'NEWCollabToolsWantToWorkWith_Visual Studio Code', 'NEWCollabToolsWantToWorkWith_WebStorm', 'NEWCollabToolsWantToWorkWith_Xcode', 'NEWCollabToolsWantToWorkWith_condo', 'PlatformHaveWorkedWith_Amazon Web Services (AWS)', 'PlatformHaveWorkedWith_Cloudflare', 'PlatformHaveWorkedWith_Colocation', 'PlatformHaveWorkedWith_Digital Ocean', 'PlatformHaveWorkedWith_Firebase', 'PlatformHaveWorkedWith_Fly.io', 'PlatformHaveWorkedWith_Google Cloud', 'PlatformHaveWorkedWith_Heroku', 'PlatformHaveWorkedWith_Hetzner', 'PlatformHaveWorkedWith_IBM Cloud Or Watson', 'PlatformHaveWorkedWith_Linode, now Akamai', 'PlatformHaveWorkedWith_Managed Hosting', 'PlatformHaveWorkedWith_Microsoft Azure', 'PlatformHaveWorkedWith_NA', 'PlatformHaveWorkedWith_Netlify', 'PlatformHaveWorkedWith_OVH', 'PlatformHaveWorkedWith_OpenShift', 'PlatformHaveWorkedWith_OpenStack', 'PlatformHaveWorkedWith_Oracle Cloud Infrastructure (OCI)', 'PlatformHaveWorkedWith_Render', 'PlatformHaveWorkedWith_Scaleway', 'PlatformHaveWorkedWith_VMware', 'PlatformHaveWorkedWith_Vercel', 'PlatformHaveWorkedWith_Vultr', 'PlatformWantToWorkWith_Amazon Web Services (AWS)', 'PlatformWantToWorkWith_Cloudflare', 'PlatformWantToWorkWith_Colocation', 'PlatformWantToWorkWith_Digital Ocean', 'PlatformWantToWorkWith_Firebase', 'PlatformWantToWorkWith_Fly.io', 'PlatformWantToWorkWith_Google Cloud', 'PlatformWantToWorkWith_Heroku', 'PlatformWantToWorkWith_Hetzner', 'PlatformWantToWorkWith_IBM Cloud Or Watson', 'PlatformWantToWorkWith_Linode, now Akamai', 'PlatformWantToWorkWith_Managed Hosting', 'PlatformWantToWorkWith_Microsoft Azure', 'PlatformWantToWorkWith_NA', 'PlatformWantToWorkWith_Netlify', 'PlatformWantToWorkWith_OVH', 'PlatformWantToWorkWith_OpenShift', 'PlatformWantToWorkWith_OpenStack', 'PlatformWantToWorkWith_Oracle Cloud Infrastructure (OCI)', 'PlatformWantToWorkWith_Render', 'PlatformWantToWorkWith_Scaleway', 'PlatformWantToWorkWith_VMware', 'PlatformWantToWorkWith_Vercel', 'PlatformWantToWorkWith_Vultr', 'ProfessionalTech_AI-assisted technology tool(s)', 'ProfessionalTech_Automated testing', 'ProfessionalTech_Continuous integration (CI) and (more often) continuous delivery', 'ProfessionalTech_DevOps function', 'ProfessionalTech_Developer portal or other central places to find tools/services', 'ProfessionalTech_Innersource initiative', 'ProfessionalTech_Microservices', 'ProfessionalTech_NA', 'ProfessionalTech_None of these', 'ProfessionalTech_Observability tools', 'ToolsTechHaveWorkedWith_APT', 'ToolsTechHaveWorkedWith_Ansible', 'ToolsTechHaveWorkedWith_Ant', 'ToolsTechHaveWorkedWith_Boost.Test', 'ToolsTechHaveWorkedWith_Bun', 'ToolsTechHaveWorkedWith_CMake', 'ToolsTechHaveWorkedWith_CUTE', 'ToolsTechHaveWorkedWith_Cargo', 'ToolsTechHaveWorkedWith_Catch2', 'ToolsTechHaveWorkedWith_Chef', 'ToolsTechHaveWorkedWith_Chocolatey', 'ToolsTechHaveWorkedWith_Composer', 'ToolsTechHaveWorkedWith_Dagger', 'ToolsTechHaveWorkedWith_Docker', 'ToolsTechHaveWorkedWith_ELFspy', 'ToolsTechHaveWorkedWith_GNU GCC', 'ToolsTechHaveWorkedWith_Godot', 'ToolsTechHaveWorkedWith_Google Test', 'ToolsTechHaveWorkedWith_Gradle', 'ToolsTechHaveWorkedWith_Homebrew', 'ToolsTechHaveWorkedWith_Kubernetes', \"ToolsTechHaveWorkedWith_LLVM's Clang\", 'ToolsTechHaveWorkedWith_MSBuild', 'ToolsTechHaveWorkedWith_MSVC', 'ToolsTechHaveWorkedWith_Make', 'ToolsTechHaveWorkedWith_Maven (build tool)', 'ToolsTechHaveWorkedWith_Meson', 'ToolsTechHaveWorkedWith_NA', 'ToolsTechHaveWorkedWith_Ninja', 'ToolsTechHaveWorkedWith_Nix', 'ToolsTechHaveWorkedWith_NuGet', 'ToolsTechHaveWorkedWith_Pacman', 'ToolsTechHaveWorkedWith_Pip', 'ToolsTechHaveWorkedWith_Podman', 'ToolsTechHaveWorkedWith_Pulumi', 'ToolsTechHaveWorkedWith_Puppet', 'ToolsTechHaveWorkedWith_QMake', 'ToolsTechHaveWorkedWith_SCons', 'ToolsTechHaveWorkedWith_Terraform', 'ToolsTechHaveWorkedWith_Unity 3D', 'ToolsTechHaveWorkedWith_Unreal Engine', 'ToolsTechHaveWorkedWith_Visual Studio Solution', 'ToolsTechHaveWorkedWith_Vite', 'ToolsTechHaveWorkedWith_Wasmer', 'ToolsTechHaveWorkedWith_Webpack', 'ToolsTechHaveWorkedWith_Yarn', 'ToolsTechHaveWorkedWith_bandit', 'ToolsTechHaveWorkedWith_build2', 'ToolsTechHaveWorkedWith_cppunit', 'ToolsTechHaveWorkedWith_doctest', 'ToolsTechHaveWorkedWith_lest', 'ToolsTechHaveWorkedWith_liblittletest', 'ToolsTechHaveWorkedWith_npm', 'ToolsTechHaveWorkedWith_pnpm', 'ToolsTechHaveWorkedWith_snitch', 'ToolsTechHaveWorkedWith_tunit', 'ToolsTechWantToWorkWith_APT', 'ToolsTechWantToWorkWith_Ansible', 'ToolsTechWantToWorkWith_Ant', 'ToolsTechWantToWorkWith_Boost.Test', 'ToolsTechWantToWorkWith_Bun', 'ToolsTechWantToWorkWith_CMake', 'ToolsTechWantToWorkWith_CUTE', 'ToolsTechWantToWorkWith_Cargo', 'ToolsTechWantToWorkWith_Catch2', 'ToolsTechWantToWorkWith_Chef', 'ToolsTechWantToWorkWith_Chocolatey', 'ToolsTechWantToWorkWith_Composer', 'ToolsTechWantToWorkWith_Dagger', 'ToolsTechWantToWorkWith_Docker', 'ToolsTechWantToWorkWith_ELFspy', 'ToolsTechWantToWorkWith_GNU GCC', 'ToolsTechWantToWorkWith_Godot', 'ToolsTechWantToWorkWith_Google Test', 'ToolsTechWantToWorkWith_Gradle', 'ToolsTechWantToWorkWith_Homebrew', 'ToolsTechWantToWorkWith_Kubernetes', \"ToolsTechWantToWorkWith_LLVM's Clang\", 'ToolsTechWantToWorkWith_MSBuild', 'ToolsTechWantToWorkWith_MSVC', 'ToolsTechWantToWorkWith_Make', 'ToolsTechWantToWorkWith_Maven (build tool)', 'ToolsTechWantToWorkWith_Meson', 'ToolsTechWantToWorkWith_NA', 'ToolsTechWantToWorkWith_Ninja', 'ToolsTechWantToWorkWith_Nix', 'ToolsTechWantToWorkWith_NuGet', 'ToolsTechWantToWorkWith_Pacman', 'ToolsTechWantToWorkWith_Pip', 'ToolsTechWantToWorkWith_Podman', 'ToolsTechWantToWorkWith_Pulumi', 'ToolsTechWantToWorkWith_Puppet', 'ToolsTechWantToWorkWith_QMake', 'ToolsTechWantToWorkWith_SCons', 'ToolsTechWantToWorkWith_Terraform', 'ToolsTechWantToWorkWith_Unity 3D', 'ToolsTechWantToWorkWith_Unreal Engine', 'ToolsTechWantToWorkWith_Visual Studio Solution', 'ToolsTechWantToWorkWith_Vite', 'ToolsTechWantToWorkWith_Wasmer', 'ToolsTechWantToWorkWith_Webpack', 'ToolsTechWantToWorkWith_Yarn', 'ToolsTechWantToWorkWith_bandit', 'ToolsTechWantToWorkWith_build2', 'ToolsTechWantToWorkWith_cppunit', 'ToolsTechWantToWorkWith_doctest', 'ToolsTechWantToWorkWith_lest', 'ToolsTechWantToWorkWith_liblittletest', 'ToolsTechWantToWorkWith_npm', 'ToolsTechWantToWorkWith_pnpm', 'ToolsTechWantToWorkWith_snitch', 'ToolsTechWantToWorkWith_tunit', 'WebframeHaveWorkedWith_ASP.NET', 'WebframeHaveWorkedWith_ASP.NET CORE', 'WebframeHaveWorkedWith_Angular', 'WebframeHaveWorkedWith_AngularJS', 'WebframeHaveWorkedWith_Blazor', 'WebframeHaveWorkedWith_CodeIgniter', 'WebframeHaveWorkedWith_Deno', 'WebframeHaveWorkedWith_Django', 'WebframeHaveWorkedWith_Drupal', 'WebframeHaveWorkedWith_Elm', 'WebframeHaveWorkedWith_Express', 'WebframeHaveWorkedWith_FastAPI', 'WebframeHaveWorkedWith_Fastify', 'WebframeHaveWorkedWith_Flask', 'WebframeHaveWorkedWith_Gatsby', 'WebframeHaveWorkedWith_Laravel', 'WebframeHaveWorkedWith_Lit', 'WebframeHaveWorkedWith_NA', 'WebframeHaveWorkedWith_NestJS', 'WebframeHaveWorkedWith_Next.js', 'WebframeHaveWorkedWith_Node.js', 'WebframeHaveWorkedWith_Nuxt.js', 'WebframeHaveWorkedWith_Phoenix', 'WebframeHaveWorkedWith_Play Framework', 'WebframeHaveWorkedWith_Qwik', 'WebframeHaveWorkedWith_React', 'WebframeHaveWorkedWith_Remix', 'WebframeHaveWorkedWith_Ruby on Rails', 'WebframeHaveWorkedWith_Solid.js', 'WebframeHaveWorkedWith_Spring Boot', 'WebframeHaveWorkedWith_Svelte', 'WebframeHaveWorkedWith_Symfony', 'WebframeHaveWorkedWith_Vue.js', 'WebframeHaveWorkedWith_WordPress', 'WebframeHaveWorkedWith_jQuery', 'WebframeWantToWorkWith_ASP.NET', 'WebframeWantToWorkWith_ASP.NET CORE', 'WebframeWantToWorkWith_Angular', 'WebframeWantToWorkWith_AngularJS', 'WebframeWantToWorkWith_Blazor', 'WebframeWantToWorkWith_CodeIgniter', 'WebframeWantToWorkWith_Deno', 'WebframeWantToWorkWith_Django', 'WebframeWantToWorkWith_Drupal', 'WebframeWantToWorkWith_Elm', 'WebframeWantToWorkWith_Express', 'WebframeWantToWorkWith_FastAPI', 'WebframeWantToWorkWith_Fastify', 'WebframeWantToWorkWith_Flask', 'WebframeWantToWorkWith_Gatsby', 'WebframeWantToWorkWith_Laravel', 'WebframeWantToWorkWith_Lit', 'WebframeWantToWorkWith_NA', 'WebframeWantToWorkWith_NestJS', 'WebframeWantToWorkWith_Next.js', 'WebframeWantToWorkWith_Node.js', 'WebframeWantToWorkWith_Nuxt.js', 'WebframeWantToWorkWith_Phoenix', 'WebframeWantToWorkWith_Play Framework', 'WebframeWantToWorkWith_Qwik', 'WebframeWantToWorkWith_React', 'WebframeWantToWorkWith_Remix', 'WebframeWantToWorkWith_Ruby on Rails', 'WebframeWantToWorkWith_Solid.js', 'WebframeWantToWorkWith_Spring Boot', 'WebframeWantToWorkWith_Svelte', 'WebframeWantToWorkWith_Symfony', 'WebframeWantToWorkWith_Vue.js', 'WebframeWantToWorkWith_WordPress', 'WebframeWantToWorkWith_jQuery', 'Country_Albania', 'Country_Algeria', 'Country_Andorra', 'Country_Angola', 'Country_Antigua and Barbuda', 'Country_Argentina', 'Country_Armenia', 'Country_Australia', 'Country_Austria', 'Country_Azerbaijan', 'Country_Bahamas', 'Country_Bahrain', 'Country_Bangladesh', 'Country_Barbados', 'Country_Belarus', 'Country_Belgium', 'Country_Belize', 'Country_Benin', 'Country_Bhutan', 'Country_Bolivia', 'Country_Bosnia and Herzegovina', 'Country_Botswana', 'Country_Brazil', 'Country_Brunei Darussalam', 'Country_Bulgaria', 'Country_Burkina Faso', 'Country_Burundi', 'Country_Cambodia', 'Country_Cameroon', 'Country_Canada', 'Country_Cape Verde', 'Country_Central African Republic', 'Country_Chile', 'Country_China', 'Country_Colombia', 'Country_Congo, Republic of the...', 'Country_Costa Rica', 'Country_Croatia', 'Country_Cuba', 'Country_Cyprus', 'Country_Czech Republic', \"Country_Côte d'Ivoire\", \"Country_Democratic People's Republic of Korea\", 'Country_Democratic Republic of the Congo', 'Country_Denmark', 'Country_Djibouti', 'Country_Dominica', 'Country_Dominican Republic', 'Country_Ecuador', 'Country_Egypt', 'Country_El Salvador', 'Country_Estonia', 'Country_Ethiopia', 'Country_Fiji', 'Country_Finland', 'Country_France', 'Country_Gabon', 'Country_Georgia', 'Country_Germany', 'Country_Ghana', 'Country_Greece', 'Country_Grenada', 'Country_Guatemala', 'Country_Guinea', 'Country_Guinea-Bissau', 'Country_Guyana', 'Country_Haiti', 'Country_Honduras', 'Country_Hong Kong (S.A.R.)', 'Country_Hungary', 'Country_Iceland', 'Country_India', 'Country_Indonesia', 'Country_Iran, Islamic Republic of...', 'Country_Iraq', 'Country_Ireland', 'Country_Isle of Man', 'Country_Israel', 'Country_Italy', 'Country_Jamaica', 'Country_Japan', 'Country_Jordan', 'Country_Kazakhstan', 'Country_Kenya', 'Country_Kosovo', 'Country_Kuwait', 'Country_Kyrgyzstan', \"Country_Lao People's Democratic Republic\", 'Country_Latvia', 'Country_Lebanon', 'Country_Lesotho', 'Country_Liberia', 'Country_Libyan Arab Jamahiriya', 'Country_Liechtenstein', 'Country_Lithuania', 'Country_Luxembourg', 'Country_Madagascar', 'Country_Malawi', 'Country_Malaysia', 'Country_Maldives', 'Country_Mali', 'Country_Malta', 'Country_Marshall Islands', 'Country_Mauritania', 'Country_Mauritius', 'Country_Mexico', 'Country_Monaco', 'Country_Mongolia', 'Country_Montenegro', 'Country_Morocco', 'Country_Mozambique', 'Country_Myanmar', 'Country_NA', 'Country_Namibia', 'Country_Nepal', 'Country_Netherlands', 'Country_New Zealand', 'Country_Nicaragua', 'Country_Niger', 'Country_Nigeria', 'Country_Nomadic', 'Country_North Korea', 'Country_Norway', 'Country_Oman', 'Country_Pakistan', 'Country_Palau', 'Country_Palestine', 'Country_Panama', 'Country_Paraguay', 'Country_Peru', 'Country_Philippines', 'Country_Poland', 'Country_Portugal', 'Country_Qatar', 'Country_Republic of Korea', 'Country_Republic of Moldova', 'Country_Romania', 'Country_Russian Federation', 'Country_Rwanda', 'Country_Saint Kitts and Nevis', 'Country_Saint Lucia', 'Country_Saint Vincent and the Grenadines', 'Country_Samoa', 'Country_San Marino', 'Country_Saudi Arabia', 'Country_Senegal', 'Country_Serbia', 'Country_Sierra Leone', 'Country_Singapore', 'Country_Slovakia', 'Country_Slovenia', 'Country_Somalia', 'Country_South Africa', 'Country_South Korea', 'Country_Spain', 'Country_Sri Lanka', 'Country_Sudan', 'Country_Suriname', 'Country_Swaziland', 'Country_Sweden', 'Country_Switzerland', 'Country_Syrian Arab Republic', 'Country_Taiwan', 'Country_Tajikistan', 'Country_Thailand', 'Country_The former Yugoslav Republic of Macedonia', 'Country_Timor-Leste', 'Country_Togo', 'Country_Trinidad and Tobago', 'Country_Tunisia', 'Country_Turkey', 'Country_Turkmenistan', 'Country_Uganda', 'Country_Ukraine', 'Country_United Arab Emirates', 'Country_United Kingdom of Great Britain and Northern Ireland', 'Country_United Republic of Tanzania', 'Country_United States of America', 'Country_Uruguay', 'Country_Uzbekistan', 'Country_Venezuela, Bolivarian Republic of...', 'Country_Viet Nam', 'Country_Yemen', 'Country_Zambia', 'Country_Zimbabwe', 'EdLevel_Bachelor’s degree (B.A., B.S., B.Eng., etc.)', 'EdLevel_Master’s degree (M.A., M.S., M.Eng., MBA, etc.)', 'EdLevel_NA', 'EdLevel_Primary/elementary school', 'EdLevel_Professional degree (JD, MD, Ph.D, Ed.D, etc.)', 'EdLevel_Secondary school (e.g. American high school, German Realschule or Gymnasium, etc.)', 'EdLevel_Some college/university study without earning a degree', 'EdLevel_Something else', 'RemoteWork_In-person', 'RemoteWork_NA', 'RemoteWork_Remote', 'MainBranch_I am learning to code', 'MainBranch_I am not primarily a developer, but I write code sometimes as part of my work/studies', 'MainBranch_I code primarily as a hobby', 'MainBranch_I used to be a developer by profession, but no longer am', 'MainBranch_None of these', 'Industry_Financial Services', 'Industry_Healthcare', 'Industry_Higher Education', 'Industry_Information Services, IT, Software Development, or other Technology', 'Industry_Insurance', 'Industry_Legal Services', 'Industry_Manufacturing, Transportation, or Supply Chain', 'Industry_NA', 'Industry_Oil & Gas', 'Industry_Other', 'Industry_Retail and Consumer Services', 'Industry_Wholesale', 'ICorPM_NA', 'ICorPM_People manager', 'DevType_Blockchain', 'DevType_Cloud infrastructure engineer', 'DevType_Data or business analyst', 'DevType_Data scientist or machine learning specialist', 'DevType_Database administrator', 'DevType_Designer', 'DevType_DevOps specialist', 'DevType_Developer Advocate', 'DevType_Developer Experience', 'DevType_Developer, QA or test', 'DevType_Developer, back-end', 'DevType_Developer, desktop or enterprise applications', 'DevType_Developer, embedded applications or devices', 'DevType_Developer, front-end', 'DevType_Developer, full-stack', 'DevType_Developer, game or graphics', 'DevType_Developer, mobile', 'DevType_Educator', 'DevType_Engineer, data', 'DevType_Engineer, site reliability', 'DevType_Engineering manager', 'DevType_Hardware Engineer', 'DevType_Marketing or sales professional', 'DevType_NA', 'DevType_Other (please specify):', 'DevType_Product manager', 'DevType_Project manager', 'DevType_Research & Development role', 'DevType_Scientist', 'DevType_Security professional', 'DevType_Senior Executive (C-Suite, VP, etc.)', 'DevType_Student', 'DevType_System administrator']\n"
          ]
        }
      ]
    },
    {
      "cell_type": "code",
      "source": [
        "df['Country_Congo, Republic of the... ']"
      ],
      "metadata": {
        "id": "dEshAiBLxmWk"
      },
      "execution_count": null,
      "outputs": []
    },
    {
      "cell_type": "code",
      "source": [
        "######## NO ###############\n",
        "# Encode categorical variables\n",
        "label_encoders = {}\n",
        "for column in categorical_columns:\n",
        "    label_encoders[column] = LabelEncoder()\n",
        "    df[column] = label_encoders[column].fit_transform(df[column])"
      ],
      "metadata": {
        "id": "EBsiqgPtUW8T"
      },
      "execution_count": null,
      "outputs": []
    },
    {
      "cell_type": "code",
      "source": [
        "df['YearsCode'].unique()\n",
        "df['YearsCode'] = df['YearsCode'].replace('Less than 1 year',1)\n",
        "df['YearsCode'] = df['YearsCode'].replace( 'More than 50 years',51)\n",
        "df['YearsCode'] = df['YearsCode'].replace('NA',0)\n",
        "df['YearsCode'].unique()"
      ],
      "metadata": {
        "colab": {
          "base_uri": "https://localhost:8080/"
        },
        "id": "5e7BGmacYpu2",
        "outputId": "cd42a264-6863-4014-aad8-11677ddd3eb9"
      },
      "execution_count": null,
      "outputs": [
        {
          "output_type": "execute_result",
          "data": {
            "text/plain": [
              "array([0, '18', '27', '12', '6', '21', '4', '5', '20', '14', '10', '15',\n",
              "       '11', '3', '24', '8', '13', 1, '16', '33', '22', '30', '32', '7',\n",
              "       '35', '28', '40', '17', '29', '19', 51, '9', '38', '26', '34',\n",
              "       '25', '2', '45', '23', '31', '43', '1', '48', '41', '50', '39',\n",
              "       '42', '37', '36', '44', '46', '49', '47'], dtype=object)"
            ]
          },
          "metadata": {},
          "execution_count": 16
        }
      ]
    },
    {
      "cell_type": "code",
      "source": [
        "df['YearsCodePro'].unique()\n",
        "df['YearsCodePro'] = df['YearsCodePro'].replace('Less than 1 year',1)\n",
        "df['YearsCodePro'] = df['YearsCodePro'].replace( 'More than 50 years',51)\n",
        "df['YearsCodePro'] = df['YearsCodePro'].replace('NA',0)\n",
        "df['YearsCodePro'].unique()"
      ],
      "metadata": {
        "colab": {
          "base_uri": "https://localhost:8080/"
        },
        "id": "6LEbesLeZodE",
        "outputId": "7c4cfc28-f765-4c3c-8fcc-919b0ff86162"
      },
      "execution_count": null,
      "outputs": [
        {
          "output_type": "execute_result",
          "data": {
            "text/plain": [
              "array([0, '9', '23', '7', '4', '21', '3', '15', 1, '10', '2', '6', '14',\n",
              "       '5', '19', '13', '16', '28', '1', '30', '11', '8', '25', '32',\n",
              "       '24', '40', '17', '45', '29', '12', '31', '20', '18', '50', '27',\n",
              "       '43', '22', '26', '38', '33', '44', '35', '34', '37', '42', '41',\n",
              "       51, '47', '36', '39', '48', '46', '49'], dtype=object)"
            ]
          },
          "metadata": {},
          "execution_count": 17
        }
      ]
    },
    {
      "cell_type": "code",
      "source": [
        "df['WorkExp'].unique()\n",
        "df['WorkExp'] = df['WorkExp'].replace('NA',0)\n",
        "df['WorkExp'].unique()"
      ],
      "metadata": {
        "colab": {
          "base_uri": "https://localhost:8080/"
        },
        "id": "WQQwoNnXbaK3",
        "outputId": "1553135c-e301-4a82-e531-07f714d926d5"
      },
      "execution_count": null,
      "outputs": [
        {
          "output_type": "execute_result",
          "data": {
            "text/plain": [
              "array([ 0., 10., 23.,  7.,  6., 22.,  4.,  5.,  3.,  9., 15., 14., 18.,\n",
              "       13., 39.,  2., 28., 12., 17., 25., 11., 16., 30., 20., 24., 19.,\n",
              "        1.,  8., 26., 38., 27., 32., 21., 40., 34., 35., 29., 33., 37.,\n",
              "       36., 31., 48., 45., 42., 43., 44., 50., 41., 46., 47., 49.])"
            ]
          },
          "metadata": {},
          "execution_count": 18
        }
      ]
    },
    {
      "cell_type": "code",
      "source": [
        "# Scale numerical variables\n",
        "scaler = StandardScaler()\n",
        "df[numerical_columns] = scaler.fit_transform(df[numerical_columns])"
      ],
      "metadata": {
        "id": "yXKtENR3bulL"
      },
      "execution_count": null,
      "outputs": []
    },
    {
      "cell_type": "code",
      "source": [
        "######## NO ###############\n",
        "# Calculate cosine similarity between professionals\n",
        "similarity_matrix = cosine_similarity(df)"
      ],
      "metadata": {
        "id": "XypUiilSb33-"
      },
      "execution_count": null,
      "outputs": []
    },
    {
      "cell_type": "code",
      "source": [
        "# Step 4: Model Training (User-based Collaborative Filtering)\n",
        "# Split data into train and test sets\n",
        "train_data, test_data = train_test_split(df, test_size=0.2)\n",
        "\n",
        "#minkowski is good so far\n",
        "\n",
        "# Fit nearest neighbors model\n",
        "knn_model = NearestNeighbors(n_neighbors=5, metric='minkowski')\n",
        "knn_model.fit(train_data.values)"
      ],
      "metadata": {
        "colab": {
          "base_uri": "https://localhost:8080/",
          "height": 75
        },
        "id": "AWmTH3DvdG5x",
        "outputId": "f7d8267c-4461-42ef-946c-71b69f922283"
      },
      "execution_count": null,
      "outputs": [
        {
          "output_type": "execute_result",
          "data": {
            "text/plain": [
              "NearestNeighbors()"
            ],
            "text/html": [
              "<style>#sk-container-id-1 {color: black;background-color: white;}#sk-container-id-1 pre{padding: 0;}#sk-container-id-1 div.sk-toggleable {background-color: white;}#sk-container-id-1 label.sk-toggleable__label {cursor: pointer;display: block;width: 100%;margin-bottom: 0;padding: 0.3em;box-sizing: border-box;text-align: center;}#sk-container-id-1 label.sk-toggleable__label-arrow:before {content: \"▸\";float: left;margin-right: 0.25em;color: #696969;}#sk-container-id-1 label.sk-toggleable__label-arrow:hover:before {color: black;}#sk-container-id-1 div.sk-estimator:hover label.sk-toggleable__label-arrow:before {color: black;}#sk-container-id-1 div.sk-toggleable__content {max-height: 0;max-width: 0;overflow: hidden;text-align: left;background-color: #f0f8ff;}#sk-container-id-1 div.sk-toggleable__content pre {margin: 0.2em;color: black;border-radius: 0.25em;background-color: #f0f8ff;}#sk-container-id-1 input.sk-toggleable__control:checked~div.sk-toggleable__content {max-height: 200px;max-width: 100%;overflow: auto;}#sk-container-id-1 input.sk-toggleable__control:checked~label.sk-toggleable__label-arrow:before {content: \"▾\";}#sk-container-id-1 div.sk-estimator input.sk-toggleable__control:checked~label.sk-toggleable__label {background-color: #d4ebff;}#sk-container-id-1 div.sk-label input.sk-toggleable__control:checked~label.sk-toggleable__label {background-color: #d4ebff;}#sk-container-id-1 input.sk-hidden--visually {border: 0;clip: rect(1px 1px 1px 1px);clip: rect(1px, 1px, 1px, 1px);height: 1px;margin: -1px;overflow: hidden;padding: 0;position: absolute;width: 1px;}#sk-container-id-1 div.sk-estimator {font-family: monospace;background-color: #f0f8ff;border: 1px dotted black;border-radius: 0.25em;box-sizing: border-box;margin-bottom: 0.5em;}#sk-container-id-1 div.sk-estimator:hover {background-color: #d4ebff;}#sk-container-id-1 div.sk-parallel-item::after {content: \"\";width: 100%;border-bottom: 1px solid gray;flex-grow: 1;}#sk-container-id-1 div.sk-label:hover label.sk-toggleable__label {background-color: #d4ebff;}#sk-container-id-1 div.sk-serial::before {content: \"\";position: absolute;border-left: 1px solid gray;box-sizing: border-box;top: 0;bottom: 0;left: 50%;z-index: 0;}#sk-container-id-1 div.sk-serial {display: flex;flex-direction: column;align-items: center;background-color: white;padding-right: 0.2em;padding-left: 0.2em;position: relative;}#sk-container-id-1 div.sk-item {position: relative;z-index: 1;}#sk-container-id-1 div.sk-parallel {display: flex;align-items: stretch;justify-content: center;background-color: white;position: relative;}#sk-container-id-1 div.sk-item::before, #sk-container-id-1 div.sk-parallel-item::before {content: \"\";position: absolute;border-left: 1px solid gray;box-sizing: border-box;top: 0;bottom: 0;left: 50%;z-index: -1;}#sk-container-id-1 div.sk-parallel-item {display: flex;flex-direction: column;z-index: 1;position: relative;background-color: white;}#sk-container-id-1 div.sk-parallel-item:first-child::after {align-self: flex-end;width: 50%;}#sk-container-id-1 div.sk-parallel-item:last-child::after {align-self: flex-start;width: 50%;}#sk-container-id-1 div.sk-parallel-item:only-child::after {width: 0;}#sk-container-id-1 div.sk-dashed-wrapped {border: 1px dashed gray;margin: 0 0.4em 0.5em 0.4em;box-sizing: border-box;padding-bottom: 0.4em;background-color: white;}#sk-container-id-1 div.sk-label label {font-family: monospace;font-weight: bold;display: inline-block;line-height: 1.2em;}#sk-container-id-1 div.sk-label-container {text-align: center;}#sk-container-id-1 div.sk-container {/* jupyter's `normalize.less` sets `[hidden] { display: none; }` but bootstrap.min.css set `[hidden] { display: none !important; }` so we also need the `!important` here to be able to override the default hidden behavior on the sphinx rendered scikit-learn.org. See: https://github.com/scikit-learn/scikit-learn/issues/21755 */display: inline-block !important;position: relative;}#sk-container-id-1 div.sk-text-repr-fallback {display: none;}</style><div id=\"sk-container-id-1\" class=\"sk-top-container\"><div class=\"sk-text-repr-fallback\"><pre>NearestNeighbors()</pre><b>In a Jupyter environment, please rerun this cell to show the HTML representation or trust the notebook. <br />On GitHub, the HTML representation is unable to render, please try loading this page with nbviewer.org.</b></div><div class=\"sk-container\" hidden><div class=\"sk-item\"><div class=\"sk-estimator sk-toggleable\"><input class=\"sk-toggleable__control sk-hidden--visually\" id=\"sk-estimator-id-1\" type=\"checkbox\" checked><label for=\"sk-estimator-id-1\" class=\"sk-toggleable__label sk-toggleable__label-arrow\">NearestNeighbors</label><div class=\"sk-toggleable__content\"><pre>NearestNeighbors()</pre></div></div></div></div></div>"
            ]
          },
          "metadata": {},
          "execution_count": 20
        }
      ]
    },
    {
      "cell_type": "code",
      "source": [
        "questions = {\n",
        "    \"MainBranch\": \"What describes you the best?\",\n",
        "    \"Employment\": \"Which of the following best describes your current employment status?\",\n",
        "    \"RemoteWork\": \"Which best describes your current work situation?\",\n",
        "    \"CodingActivities\": \"Which of the following best describes the code you write outside of work?\",\n",
        "    \"EdLevel\": \"Which of the following best describes the highest level of formal education that you've completed?\",\n",
        "    \"LearnCode\": \"How do you learn to code?\",\n",
        "    \"LearnCodeOnline\": \"What online resources do you use to learn to code?\",\n",
        "    \"LearnCodeCoursesCert\": \"What online courses or certifications do you use to learn to code? \",\n",
        "    \"YearsCode\": \"Including any education, how many years have you been coding in total?\",\n",
        "    \"YearsCodePro\": \"NOT including education, how many years have you coded professionally (as a part of your work)?\",\n",
        "    \"DevType\": \"Which of the following describes your current job, the one you do most of the time?\",\n",
        "    \"Country\": \"Where do you live?\",\n",
        "    \"LanguageHaveWorkedWith\": \"What languages have you worked with?\",\n",
        "    \"LanguageWantToWorkWith\": \"What languages are you looking to work with?\",\n",
        "    \"DatabaseHaveWorkedWith\": \"What databases have you worked with?\",\n",
        "    \"DatabaseWantToWorkWith\": \"What databases are you looking to work with?\",\n",
        "    \"PlatformHaveWorkedWith\": \"What platform have you worked on?\",\n",
        "    \"PlatformWantToWorkWith\": \"What platform are you looking to work on?\",\n",
        "    \"WebframeHaveWorkedWith\": \"What Webframeworks have you worked with?\",\n",
        "    \"WebframeWantToWorkWith\": \"What Webframeworks do you want to work with?\",\n",
        "    \"MiscTechHaveWorkedWith\": \"What other Miscellaneous Tech have you worked with?\",\n",
        "    \"MiscTechWantToWorkWith\": \"What other Miscellaneous Tech do you want to work with?\",\n",
        "    \"ToolsTechHaveWorkedWith\": \"Any other Tools and Technology familiar with?\",\n",
        "    \"ToolsTechWantToWorkWith\": \"Any other Tools and Technology you want to get familiar with?\",\n",
        "    \"NEWCollabToolsHaveWorkedWith\": \"What collaboration tools have you used?\",\n",
        "    \"NEWCollabToolsWantToWorkWith\": \"Which other collaboration tools do you wish to use?\",\n",
        "    \"ICorPM\": \"Are you an individual contributor or people manager?\",\n",
        "    \"WorkExp\": \"How many years of working experience do you have?\",\n",
        "    \"ProfessionalTech\": \"Which other professional technologies do you use?\",\n",
        "    \"Industry\": \"What industry is the company you work for in?\"\n",
        "}"
      ],
      "metadata": {
        "id": "lV2UMbWAWmw7"
      },
      "execution_count": null,
      "outputs": []
    },
    {
      "cell_type": "markdown",
      "source": [],
      "metadata": {
        "id": "ThqbG1aAWmnl"
      }
    },
    {
      "cell_type": "code",
      "source": [
        "questions.values()"
      ],
      "metadata": {
        "colab": {
          "base_uri": "https://localhost:8080/"
        },
        "id": "ynxu9R_fkEjF",
        "outputId": "a30b4f64-d390-46b8-cf6e-215b8e211f8f"
      },
      "execution_count": null,
      "outputs": [
        {
          "output_type": "execute_result",
          "data": {
            "text/plain": [
              "dict_values(['What describes you the best?', 'Which of the following best describes your current employment status?', 'Which best describes your current work situation?', 'Which of the following best describes the code you write outside of work?', \"Which of the following best describes the highest level of formal education that you've completed?\", 'How do you learn to code?', 'What online resources do you use to learn to code?', 'What online courses or certifications do you use to learn to code? ', 'Including any education, how many years have you been coding in total?', 'NOT including education, how many years have you coded professionally (as a part of your work)?', 'Which of the following describes your current job, the one you do most of the time?', 'Where do you live?', 'What languages have you worked with?', 'What languages are you looking to work with?', 'What databases have you worked with?', 'What databases are you looking to work with?', 'What platform have you worked on?', 'What platform are you looking to work on?', 'What Webframeworks have you worked with?', 'What Webframeworks do you want to work with?', 'What other Miscellaneous Tech have you worked with?', 'What other Miscellaneous Tech do you want to work with?', 'Any other Tools and Technology familiar with?', 'Any other Tools and Technology you want to get familiar with?', 'What collaboration tools have you used?', 'Which other collaboration tools do you wish to use?', 'Are you an individual contributor or people manager?', 'How many years of working experience do you have?', 'Which other professional technologies do you use?', 'What industry is the company you work for in?'])"
            ]
          },
          "metadata": {},
          "execution_count": 3
        }
      ]
    },
    {
      "cell_type": "code",
      "source": [
        "row = originalDF.loc[22023]\n",
        "for column, value in row.items():\n",
        "    print(f\"{questions[column]}=> {value}\\\\\")"
      ],
      "metadata": {
        "colab": {
          "base_uri": "https://localhost:8080/"
        },
        "id": "amFNYEbSWwx8",
        "outputId": "681bcf41-3f68-4be6-8b3d-a1081baee85c"
      },
      "execution_count": null,
      "outputs": [
        {
          "output_type": "stream",
          "name": "stdout",
          "text": [
            "What describes you the best?=> I am a developer by profession\\\n",
            "Which of the following best describes your current employment status?=> Employed, full-time\\\n",
            "Which best describes your current work situation?=> Remote\\\n",
            "Which of the following best describes the code you write outside of work?=> I don’t code outside of work\\\n",
            "Which of the following best describes the highest level of formal education that you've completed?=> Associate degree (A.A., A.S., etc.)\\\n",
            "How do you learn to code?=> Books / Physical media;Other online resources (e.g., videos, blogs, forum)\\\n",
            "What online resources do you use to learn to code?=> Formal documentation provided by the owner of the tech;Online challenges (e.g., daily or weekly coding challenges);Stack Overflow\\\n",
            "What online courses or certifications do you use to learn to code? => nan\\\n",
            "Including any education, how many years have you been coding in total?=> 16\\\n",
            "NOT including education, how many years have you coded professionally (as a part of your work)?=> 10\\\n",
            "Which of the following describes your current job, the one you do most of the time?=> Developer, back-end\\\n",
            "Where do you live?=> United Kingdom of Great Britain and Northern Ireland\\\n",
            "What languages have you worked with?=> Bash/Shell (all shells);Rust;TypeScript\\\n",
            "What languages are you looking to work with?=> nan\\\n",
            "What databases have you worked with?=> Dynamodb;Elasticsearch;PostgreSQL;Redis\\\n",
            "What databases are you looking to work with?=> nan\\\n",
            "What platform have you worked on?=> Amazon Web Services (AWS);Google Cloud\\\n",
            "What platform are you looking to work on?=> nan\\\n",
            "What Webframeworks have you worked with?=> Express\\\n",
            "What Webframeworks do you want to work with?=> nan\\\n",
            "What other Miscellaneous Tech have you worked with?=> nan\\\n",
            "What other Miscellaneous Tech do you want to work with?=> nan\\\n",
            "Any other Tools and Technology familiar with?=> Docker;pnpm;Terraform\\\n",
            "Any other Tools and Technology you want to get familiar with?=> nan\\\n",
            "What collaboration tools have you used?=> Neovim\\\n",
            "Which other collaboration tools do you wish to use?=> nan\\\n",
            "Are you an individual contributor or people manager?=> nan\\\n",
            "How many years of working experience do you have?=> nan\\\n",
            "Which other professional technologies do you use?=> nan\\\n",
            "What industry is the company you work for in?=> nan\\\n"
          ]
        }
      ]
    },
    {
      "cell_type": "code",
      "source": [
        "######## NO ###############\n",
        "train_data.head()\n",
        "train_data.loc[82395]\n",
        "# Select the row at index 2.\n",
        "row = train_data.loc[82395]\n",
        "\n",
        "# Print the columns where the value is 1.\n",
        "print(row.index[row == 1])"
      ],
      "metadata": {
        "colab": {
          "base_uri": "https://localhost:8080/"
        },
        "id": "CGFCgkrLPAQV",
        "outputId": "a8c9dd78-ef92-4374-8c69-6ad6a388cd69"
      },
      "execution_count": null,
      "outputs": [
        {
          "output_type": "stream",
          "name": "stdout",
          "text": [
            "Index(['EdLevel_Bachelor’s degree (B.A., B.S., B.Eng., etc.)',\n",
            "       'Industry_Information Services, IT, Software Development, or other Technology',\n",
            "       'Country_United States of America', 'RemoteWork_Remote',\n",
            "       'DevType_Developer, full-stack'],\n",
            "      dtype='object')\n"
          ]
        }
      ]
    },
    {
      "cell_type": "code",
      "source": [
        "print(originalDF.loc[82395])"
      ],
      "metadata": {
        "colab": {
          "base_uri": "https://localhost:8080/"
        },
        "id": "2zie9c9dVvPj",
        "outputId": "07a1dc50-04d4-4700-dc60-1cd9209123fa"
      },
      "execution_count": null,
      "outputs": [
        {
          "output_type": "stream",
          "name": "stdout",
          "text": [
            "MainBranch                                                                                                                                                                                                                                                            I am a developer by profession\n",
            "Employment                                                                                                                                                                                                                                                                       Employed, full-time\n",
            "RemoteWork                                                                                                                                                                                                                                                                                    Remote\n",
            "CodingActivities                                                                                                                                                                                                                                                        I don’t code outside of work\n",
            "EdLevel                                                                                                                                                                                                                                                 Bachelor’s degree (B.A., B.S., B.Eng., etc.)\n",
            "LearnCode                                                                                                     Books / Physical media;Online Courses or Certification;On the job training;Other online resources (e.g., videos, blogs, forum);School (i.e., University, College, etc);Coding Bootcamp\n",
            "LearnCodeOnline                 Formal documentation provided by the owner of the tech;Blogs with tips and tricks;Books;Recorded coding sessions;How-to videos;Video-based Online Courses;Written-based Online Courses;Online challenges (e.g., daily or weekly coding challenges);Programming Games\n",
            "LearnCodeCoursesCert                                                                                                                                                                                                                                                               Udemy;Pluralsight\n",
            "YearsCode                                                                                                                                                                                                                                                                                          7\n",
            "YearsCodePro                                                                                                                                                                                                                                                                                       6\n",
            "DevType                                                                                                                                                                                                                                                                        Developer, full-stack\n",
            "Country                                                                                                                                                                                                                                                                     United States of America\n",
            "LanguageHaveWorkedWith                                                                                                                                                                                                                         Java;JavaScript;Kotlin;Lua;PHP;Python;Ruby;TypeScript\n",
            "LanguageWantToWorkWith                                                                                                                                                                                                                                                  JavaScript;Kotlin;TypeScript\n",
            "DatabaseHaveWorkedWith                                                                                                                                                                                                                                                           MongoDB;MySQL;Redis\n",
            "DatabaseWantToWorkWith                                                                                                                                                                                                                                                                   MySQL;Redis\n",
            "PlatformHaveWorkedWith                                                                                                                                                                                                                                 Amazon Web Services (AWS);Google Cloud;Heroku\n",
            "PlatformWantToWorkWith                                                                                                                                                                                                                                                     Amazon Web Services (AWS)\n",
            "WebframeHaveWorkedWith                                                                                                                                                                                                                                Angular;AngularJS;Express;NestJS;Node.js;React\n",
            "WebframeWantToWorkWith                                                                                                                                                                                                                                                     Deno;NestJS;Node.js;React\n",
            "MiscTechHaveWorkedWith                                                                                                                                                                                                                                                  Pandas;RabbitMQ;React Native\n",
            "MiscTechWantToWorkWith                                                                                                                                                                                                                                                                  Apache Kafka\n",
            "ToolsTechHaveWorkedWith                                                                                                                                                                                                                              APT;Docker;Homebrew;Kubernetes;npm;Webpack;Yarn\n",
            "ToolsTechWantToWorkWith                                                                                                                                                                                                                                                         Docker;npm;Vite;Yarn\n",
            "NEWCollabToolsHaveWorkedWith                                                                                                                                                                                                   DataGrip;Fleet;IntelliJ IDEA;RubyMine;Vim;Visual Studio Code;WebStorm\n",
            "NEWCollabToolsWantToWorkWith                                                                                                                                                                                                                               DataGrip;Fleet;IntelliJ IDEA;Vim;WebStorm\n",
            "ICorPM                                                                                                                                                                                                                                                                        Individual contributor\n",
            "WorkExp                                                                                                                                                                                                                                                                                          8.0\n",
            "ProfessionalTech                                                               DevOps function;Automated testing;Observability tools;Developer portal or other central places to find tools/services;Continuous integration (CI) and (more often) continuous delivery;AI-assisted technology tool(s)\n",
            "Industry                                                                                                                                                                                                                         Information Services, IT, Software Development, or other Technology\n",
            "Name: 82395, dtype: object\n"
          ]
        }
      ]
    },
    {
      "cell_type": "code",
      "source": [
        "random_index = np.random.randint(0, len(test_data))  # Generate a random index\n",
        "random_professional = test_data.iloc[random_index]"
      ],
      "metadata": {
        "id": "K-V8bQ1hdmCE"
      },
      "execution_count": null,
      "outputs": []
    },
    {
      "cell_type": "code",
      "source": [
        "print(random_index)"
      ],
      "metadata": {
        "colab": {
          "base_uri": "https://localhost:8080/"
        },
        "id": "iCyA8INoYuAv",
        "outputId": "ee73cb59-8340-4e55-cb6e-75c955c5d026"
      },
      "execution_count": null,
      "outputs": [
        {
          "output_type": "stream",
          "name": "stdout",
          "text": [
            "5016\n"
          ]
        }
      ]
    },
    {
      "cell_type": "code",
      "source": [
        "random_professional.shape"
      ],
      "metadata": {
        "colab": {
          "base_uri": "https://localhost:8080/"
        },
        "id": "c-7k4qEOqDz-",
        "outputId": "9cd85188-01fb-4964-b62f-2baa70a43ba4"
      },
      "execution_count": null,
      "outputs": [
        {
          "output_type": "execute_result",
          "data": {
            "text/plain": [
              "(871,)"
            ]
          },
          "metadata": {},
          "execution_count": 27
        }
      ]
    },
    {
      "cell_type": "code",
      "source": [
        "# Convert the attributes to a numpy array and reshape it\n",
        "new_professional_array = np.array(random_professional).reshape(1, -1)"
      ],
      "metadata": {
        "id": "LACF3PZdd9Nd"
      },
      "execution_count": null,
      "outputs": []
    },
    {
      "cell_type": "code",
      "source": [
        "# Find nearest neighbors to the new professional\n",
        "distances, indices = knn_model.kneighbors(new_professional_array)\n",
        "\n",
        "# Get recommended mentors and their distances\n",
        "recommended_mentors = train_data.iloc[indices[0]]\n",
        "neighbor_distances = distances[0]\n",
        "\n",
        "\n",
        "# Calculate confidence scores based on distances\n",
        "# You may need to normalize distances if required\n",
        "# For example, you can use the inverse of distances as confidence scores\n",
        "# Or you can use a normalization method such as min-max scaling or z-score normalization\n",
        "epsilon = 1e-10\n",
        "confidence_scores = 1 / (neighbor_distances  + epsilon) # Example of using inverse of distances as confidence scores\n",
        "\n",
        "\n",
        "# Normalize confidence scores to percentages\n",
        "confidence_scores_percent = (confidence_scores - confidence_scores.min()) / (confidence_scores.max() - confidence_scores.min()) * 100\n",
        "\n",
        "# Print recommended mentors alongside their confidence scores\n",
        "for i, (index, mentor) in enumerate(recommended_mentors.iterrows()):\n",
        "    print(f\"Mentor {i+1}:\")\n",
        "    print(f\"Confidence Score: {confidence_scores_percent[i]:.2f}%\")  # Print confidence score as percentage\n",
        "    print()"
      ],
      "metadata": {
        "colab": {
          "base_uri": "https://localhost:8080/"
        },
        "id": "4LiGRjEKgrSW",
        "outputId": "6c60b5a5-deb0-42a6-9506-34c801c25ff2"
      },
      "execution_count": null,
      "outputs": [
        {
          "output_type": "stream",
          "name": "stdout",
          "text": [
            "Mentor 1:\n",
            "Confidence Score: 100.00%\n",
            "\n",
            "Mentor 2:\n",
            "Confidence Score: 74.68%\n",
            "\n",
            "Mentor 3:\n",
            "Confidence Score: 55.22%\n",
            "\n",
            "Mentor 4:\n",
            "Confidence Score: 22.25%\n",
            "\n",
            "Mentor 5:\n",
            "Confidence Score: 0.00%\n",
            "\n"
          ]
        }
      ]
    },
    {
      "cell_type": "code",
      "source": [
        "recommended_mentors"
      ],
      "metadata": {
        "colab": {
          "base_uri": "https://localhost:8080/",
          "height": 308
        },
        "id": "QnCI4_fig03M",
        "outputId": "aabbc768-ccbe-4220-93ec-3828bece08fb"
      },
      "execution_count": null,
      "outputs": [
        {
          "output_type": "execute_result",
          "data": {
            "text/plain": [
              "       YearsCode  YearsCodePro   WorkExp  \\\n",
              "21184   0.122129      0.711457 -0.654337   \n",
              "5710    0.122129      0.818517 -0.654337   \n",
              "87408   0.027908      0.604396 -0.654337   \n",
              "75952   0.310570      0.711457 -0.654337   \n",
              "40495   0.122129      0.497335 -0.654337   \n",
              "\n",
              "       CodingActivities_Bootstrapping a business  \\\n",
              "21184                                          0   \n",
              "5710                                           0   \n",
              "87408                                          0   \n",
              "75952                                          0   \n",
              "40495                                          0   \n",
              "\n",
              "       CodingActivities_Contribute to open-source projects  \\\n",
              "21184                                                    0   \n",
              "5710                                                     0   \n",
              "87408                                                    0   \n",
              "75952                                                    0   \n",
              "40495                                                    0   \n",
              "\n",
              "       CodingActivities_Freelance/contract work  CodingActivities_Hobby  \\\n",
              "21184                                         0                       0   \n",
              "5710                                          0                       0   \n",
              "87408                                         0                       0   \n",
              "75952                                         0                       0   \n",
              "40495                                         0                       0   \n",
              "\n",
              "       CodingActivities_I don’t code outside of work  CodingActivities_NA  \\\n",
              "21184                                              0                    0   \n",
              "5710                                               0                    0   \n",
              "87408                                              0                    0   \n",
              "75952                                              0                    0   \n",
              "40495                                              0                    0   \n",
              "\n",
              "       CodingActivities_Other (please specify):  ...  DevType_NA  \\\n",
              "21184                                         0  ...       False   \n",
              "5710                                          0  ...       False   \n",
              "87408                                         0  ...       False   \n",
              "75952                                         0  ...       False   \n",
              "40495                                         0  ...       False   \n",
              "\n",
              "       DevType_Other (please specify):  DevType_Product manager  \\\n",
              "21184                            False                    False   \n",
              "5710                             False                    False   \n",
              "87408                            False                    False   \n",
              "75952                            False                    False   \n",
              "40495                            False                    False   \n",
              "\n",
              "       DevType_Project manager  DevType_Research & Development role  \\\n",
              "21184                    False                                False   \n",
              "5710                     False                                False   \n",
              "87408                    False                                False   \n",
              "75952                    False                                False   \n",
              "40495                    False                                False   \n",
              "\n",
              "       DevType_Scientist  DevType_Security professional  \\\n",
              "21184              False                          False   \n",
              "5710               False                          False   \n",
              "87408              False                          False   \n",
              "75952              False                          False   \n",
              "40495              False                          False   \n",
              "\n",
              "       DevType_Senior Executive (C-Suite, VP, etc.)  DevType_Student  \\\n",
              "21184                                         False            False   \n",
              "5710                                          False            False   \n",
              "87408                                         False            False   \n",
              "75952                                         False            False   \n",
              "40495                                         False            False   \n",
              "\n",
              "       DevType_System administrator  \n",
              "21184                         False  \n",
              "5710                          False  \n",
              "87408                         False  \n",
              "75952                         False  \n",
              "40495                         False  \n",
              "\n",
              "[5 rows x 871 columns]"
            ],
            "text/html": [
              "\n",
              "  <div id=\"df-fd7ebf6c-241d-472c-bab6-cb0bde3b2d07\" class=\"colab-df-container\">\n",
              "    <div>\n",
              "<style scoped>\n",
              "    .dataframe tbody tr th:only-of-type {\n",
              "        vertical-align: middle;\n",
              "    }\n",
              "\n",
              "    .dataframe tbody tr th {\n",
              "        vertical-align: top;\n",
              "    }\n",
              "\n",
              "    .dataframe thead th {\n",
              "        text-align: right;\n",
              "    }\n",
              "</style>\n",
              "<table border=\"1\" class=\"dataframe\">\n",
              "  <thead>\n",
              "    <tr style=\"text-align: right;\">\n",
              "      <th></th>\n",
              "      <th>YearsCode</th>\n",
              "      <th>YearsCodePro</th>\n",
              "      <th>WorkExp</th>\n",
              "      <th>CodingActivities_Bootstrapping a business</th>\n",
              "      <th>CodingActivities_Contribute to open-source projects</th>\n",
              "      <th>CodingActivities_Freelance/contract work</th>\n",
              "      <th>CodingActivities_Hobby</th>\n",
              "      <th>CodingActivities_I don’t code outside of work</th>\n",
              "      <th>CodingActivities_NA</th>\n",
              "      <th>CodingActivities_Other (please specify):</th>\n",
              "      <th>...</th>\n",
              "      <th>DevType_NA</th>\n",
              "      <th>DevType_Other (please specify):</th>\n",
              "      <th>DevType_Product manager</th>\n",
              "      <th>DevType_Project manager</th>\n",
              "      <th>DevType_Research &amp; Development role</th>\n",
              "      <th>DevType_Scientist</th>\n",
              "      <th>DevType_Security professional</th>\n",
              "      <th>DevType_Senior Executive (C-Suite, VP, etc.)</th>\n",
              "      <th>DevType_Student</th>\n",
              "      <th>DevType_System administrator</th>\n",
              "    </tr>\n",
              "  </thead>\n",
              "  <tbody>\n",
              "    <tr>\n",
              "      <th>21184</th>\n",
              "      <td>0.122129</td>\n",
              "      <td>0.711457</td>\n",
              "      <td>-0.654337</td>\n",
              "      <td>0</td>\n",
              "      <td>0</td>\n",
              "      <td>0</td>\n",
              "      <td>0</td>\n",
              "      <td>0</td>\n",
              "      <td>0</td>\n",
              "      <td>0</td>\n",
              "      <td>...</td>\n",
              "      <td>False</td>\n",
              "      <td>False</td>\n",
              "      <td>False</td>\n",
              "      <td>False</td>\n",
              "      <td>False</td>\n",
              "      <td>False</td>\n",
              "      <td>False</td>\n",
              "      <td>False</td>\n",
              "      <td>False</td>\n",
              "      <td>False</td>\n",
              "    </tr>\n",
              "    <tr>\n",
              "      <th>5710</th>\n",
              "      <td>0.122129</td>\n",
              "      <td>0.818517</td>\n",
              "      <td>-0.654337</td>\n",
              "      <td>0</td>\n",
              "      <td>0</td>\n",
              "      <td>0</td>\n",
              "      <td>0</td>\n",
              "      <td>0</td>\n",
              "      <td>0</td>\n",
              "      <td>0</td>\n",
              "      <td>...</td>\n",
              "      <td>False</td>\n",
              "      <td>False</td>\n",
              "      <td>False</td>\n",
              "      <td>False</td>\n",
              "      <td>False</td>\n",
              "      <td>False</td>\n",
              "      <td>False</td>\n",
              "      <td>False</td>\n",
              "      <td>False</td>\n",
              "      <td>False</td>\n",
              "    </tr>\n",
              "    <tr>\n",
              "      <th>87408</th>\n",
              "      <td>0.027908</td>\n",
              "      <td>0.604396</td>\n",
              "      <td>-0.654337</td>\n",
              "      <td>0</td>\n",
              "      <td>0</td>\n",
              "      <td>0</td>\n",
              "      <td>0</td>\n",
              "      <td>0</td>\n",
              "      <td>0</td>\n",
              "      <td>0</td>\n",
              "      <td>...</td>\n",
              "      <td>False</td>\n",
              "      <td>False</td>\n",
              "      <td>False</td>\n",
              "      <td>False</td>\n",
              "      <td>False</td>\n",
              "      <td>False</td>\n",
              "      <td>False</td>\n",
              "      <td>False</td>\n",
              "      <td>False</td>\n",
              "      <td>False</td>\n",
              "    </tr>\n",
              "    <tr>\n",
              "      <th>75952</th>\n",
              "      <td>0.310570</td>\n",
              "      <td>0.711457</td>\n",
              "      <td>-0.654337</td>\n",
              "      <td>0</td>\n",
              "      <td>0</td>\n",
              "      <td>0</td>\n",
              "      <td>0</td>\n",
              "      <td>0</td>\n",
              "      <td>0</td>\n",
              "      <td>0</td>\n",
              "      <td>...</td>\n",
              "      <td>False</td>\n",
              "      <td>False</td>\n",
              "      <td>False</td>\n",
              "      <td>False</td>\n",
              "      <td>False</td>\n",
              "      <td>False</td>\n",
              "      <td>False</td>\n",
              "      <td>False</td>\n",
              "      <td>False</td>\n",
              "      <td>False</td>\n",
              "    </tr>\n",
              "    <tr>\n",
              "      <th>40495</th>\n",
              "      <td>0.122129</td>\n",
              "      <td>0.497335</td>\n",
              "      <td>-0.654337</td>\n",
              "      <td>0</td>\n",
              "      <td>0</td>\n",
              "      <td>0</td>\n",
              "      <td>0</td>\n",
              "      <td>0</td>\n",
              "      <td>0</td>\n",
              "      <td>0</td>\n",
              "      <td>...</td>\n",
              "      <td>False</td>\n",
              "      <td>False</td>\n",
              "      <td>False</td>\n",
              "      <td>False</td>\n",
              "      <td>False</td>\n",
              "      <td>False</td>\n",
              "      <td>False</td>\n",
              "      <td>False</td>\n",
              "      <td>False</td>\n",
              "      <td>False</td>\n",
              "    </tr>\n",
              "  </tbody>\n",
              "</table>\n",
              "<p>5 rows × 871 columns</p>\n",
              "</div>\n",
              "    <div class=\"colab-df-buttons\">\n",
              "\n",
              "  <div class=\"colab-df-container\">\n",
              "    <button class=\"colab-df-convert\" onclick=\"convertToInteractive('df-fd7ebf6c-241d-472c-bab6-cb0bde3b2d07')\"\n",
              "            title=\"Convert this dataframe to an interactive table.\"\n",
              "            style=\"display:none;\">\n",
              "\n",
              "  <svg xmlns=\"http://www.w3.org/2000/svg\" height=\"24px\" viewBox=\"0 -960 960 960\">\n",
              "    <path d=\"M120-120v-720h720v720H120Zm60-500h600v-160H180v160Zm220 220h160v-160H400v160Zm0 220h160v-160H400v160ZM180-400h160v-160H180v160Zm440 0h160v-160H620v160ZM180-180h160v-160H180v160Zm440 0h160v-160H620v160Z\"/>\n",
              "  </svg>\n",
              "    </button>\n",
              "\n",
              "  <style>\n",
              "    .colab-df-container {\n",
              "      display:flex;\n",
              "      gap: 12px;\n",
              "    }\n",
              "\n",
              "    .colab-df-convert {\n",
              "      background-color: #E8F0FE;\n",
              "      border: none;\n",
              "      border-radius: 50%;\n",
              "      cursor: pointer;\n",
              "      display: none;\n",
              "      fill: #1967D2;\n",
              "      height: 32px;\n",
              "      padding: 0 0 0 0;\n",
              "      width: 32px;\n",
              "    }\n",
              "\n",
              "    .colab-df-convert:hover {\n",
              "      background-color: #E2EBFA;\n",
              "      box-shadow: 0px 1px 2px rgba(60, 64, 67, 0.3), 0px 1px 3px 1px rgba(60, 64, 67, 0.15);\n",
              "      fill: #174EA6;\n",
              "    }\n",
              "\n",
              "    .colab-df-buttons div {\n",
              "      margin-bottom: 4px;\n",
              "    }\n",
              "\n",
              "    [theme=dark] .colab-df-convert {\n",
              "      background-color: #3B4455;\n",
              "      fill: #D2E3FC;\n",
              "    }\n",
              "\n",
              "    [theme=dark] .colab-df-convert:hover {\n",
              "      background-color: #434B5C;\n",
              "      box-shadow: 0px 1px 3px 1px rgba(0, 0, 0, 0.15);\n",
              "      filter: drop-shadow(0px 1px 2px rgba(0, 0, 0, 0.3));\n",
              "      fill: #FFFFFF;\n",
              "    }\n",
              "  </style>\n",
              "\n",
              "    <script>\n",
              "      const buttonEl =\n",
              "        document.querySelector('#df-fd7ebf6c-241d-472c-bab6-cb0bde3b2d07 button.colab-df-convert');\n",
              "      buttonEl.style.display =\n",
              "        google.colab.kernel.accessAllowed ? 'block' : 'none';\n",
              "\n",
              "      async function convertToInteractive(key) {\n",
              "        const element = document.querySelector('#df-fd7ebf6c-241d-472c-bab6-cb0bde3b2d07');\n",
              "        const dataTable =\n",
              "          await google.colab.kernel.invokeFunction('convertToInteractive',\n",
              "                                                    [key], {});\n",
              "        if (!dataTable) return;\n",
              "\n",
              "        const docLinkHtml = 'Like what you see? Visit the ' +\n",
              "          '<a target=\"_blank\" href=https://colab.research.google.com/notebooks/data_table.ipynb>data table notebook</a>'\n",
              "          + ' to learn more about interactive tables.';\n",
              "        element.innerHTML = '';\n",
              "        dataTable['output_type'] = 'display_data';\n",
              "        await google.colab.output.renderOutput(dataTable, element);\n",
              "        const docLink = document.createElement('div');\n",
              "        docLink.innerHTML = docLinkHtml;\n",
              "        element.appendChild(docLink);\n",
              "      }\n",
              "    </script>\n",
              "  </div>\n",
              "\n",
              "\n",
              "<div id=\"df-dec65572-930e-408a-a29e-e15ee89b1563\">\n",
              "  <button class=\"colab-df-quickchart\" onclick=\"quickchart('df-dec65572-930e-408a-a29e-e15ee89b1563')\"\n",
              "            title=\"Suggest charts\"\n",
              "            style=\"display:none;\">\n",
              "\n",
              "<svg xmlns=\"http://www.w3.org/2000/svg\" height=\"24px\"viewBox=\"0 0 24 24\"\n",
              "     width=\"24px\">\n",
              "    <g>\n",
              "        <path d=\"M19 3H5c-1.1 0-2 .9-2 2v14c0 1.1.9 2 2 2h14c1.1 0 2-.9 2-2V5c0-1.1-.9-2-2-2zM9 17H7v-7h2v7zm4 0h-2V7h2v10zm4 0h-2v-4h2v4z\"/>\n",
              "    </g>\n",
              "</svg>\n",
              "  </button>\n",
              "\n",
              "<style>\n",
              "  .colab-df-quickchart {\n",
              "      --bg-color: #E8F0FE;\n",
              "      --fill-color: #1967D2;\n",
              "      --hover-bg-color: #E2EBFA;\n",
              "      --hover-fill-color: #174EA6;\n",
              "      --disabled-fill-color: #AAA;\n",
              "      --disabled-bg-color: #DDD;\n",
              "  }\n",
              "\n",
              "  [theme=dark] .colab-df-quickchart {\n",
              "      --bg-color: #3B4455;\n",
              "      --fill-color: #D2E3FC;\n",
              "      --hover-bg-color: #434B5C;\n",
              "      --hover-fill-color: #FFFFFF;\n",
              "      --disabled-bg-color: #3B4455;\n",
              "      --disabled-fill-color: #666;\n",
              "  }\n",
              "\n",
              "  .colab-df-quickchart {\n",
              "    background-color: var(--bg-color);\n",
              "    border: none;\n",
              "    border-radius: 50%;\n",
              "    cursor: pointer;\n",
              "    display: none;\n",
              "    fill: var(--fill-color);\n",
              "    height: 32px;\n",
              "    padding: 0;\n",
              "    width: 32px;\n",
              "  }\n",
              "\n",
              "  .colab-df-quickchart:hover {\n",
              "    background-color: var(--hover-bg-color);\n",
              "    box-shadow: 0 1px 2px rgba(60, 64, 67, 0.3), 0 1px 3px 1px rgba(60, 64, 67, 0.15);\n",
              "    fill: var(--button-hover-fill-color);\n",
              "  }\n",
              "\n",
              "  .colab-df-quickchart-complete:disabled,\n",
              "  .colab-df-quickchart-complete:disabled:hover {\n",
              "    background-color: var(--disabled-bg-color);\n",
              "    fill: var(--disabled-fill-color);\n",
              "    box-shadow: none;\n",
              "  }\n",
              "\n",
              "  .colab-df-spinner {\n",
              "    border: 2px solid var(--fill-color);\n",
              "    border-color: transparent;\n",
              "    border-bottom-color: var(--fill-color);\n",
              "    animation:\n",
              "      spin 1s steps(1) infinite;\n",
              "  }\n",
              "\n",
              "  @keyframes spin {\n",
              "    0% {\n",
              "      border-color: transparent;\n",
              "      border-bottom-color: var(--fill-color);\n",
              "      border-left-color: var(--fill-color);\n",
              "    }\n",
              "    20% {\n",
              "      border-color: transparent;\n",
              "      border-left-color: var(--fill-color);\n",
              "      border-top-color: var(--fill-color);\n",
              "    }\n",
              "    30% {\n",
              "      border-color: transparent;\n",
              "      border-left-color: var(--fill-color);\n",
              "      border-top-color: var(--fill-color);\n",
              "      border-right-color: var(--fill-color);\n",
              "    }\n",
              "    40% {\n",
              "      border-color: transparent;\n",
              "      border-right-color: var(--fill-color);\n",
              "      border-top-color: var(--fill-color);\n",
              "    }\n",
              "    60% {\n",
              "      border-color: transparent;\n",
              "      border-right-color: var(--fill-color);\n",
              "    }\n",
              "    80% {\n",
              "      border-color: transparent;\n",
              "      border-right-color: var(--fill-color);\n",
              "      border-bottom-color: var(--fill-color);\n",
              "    }\n",
              "    90% {\n",
              "      border-color: transparent;\n",
              "      border-bottom-color: var(--fill-color);\n",
              "    }\n",
              "  }\n",
              "</style>\n",
              "\n",
              "  <script>\n",
              "    async function quickchart(key) {\n",
              "      const quickchartButtonEl =\n",
              "        document.querySelector('#' + key + ' button');\n",
              "      quickchartButtonEl.disabled = true;  // To prevent multiple clicks.\n",
              "      quickchartButtonEl.classList.add('colab-df-spinner');\n",
              "      try {\n",
              "        const charts = await google.colab.kernel.invokeFunction(\n",
              "            'suggestCharts', [key], {});\n",
              "      } catch (error) {\n",
              "        console.error('Error during call to suggestCharts:', error);\n",
              "      }\n",
              "      quickchartButtonEl.classList.remove('colab-df-spinner');\n",
              "      quickchartButtonEl.classList.add('colab-df-quickchart-complete');\n",
              "    }\n",
              "    (() => {\n",
              "      let quickchartButtonEl =\n",
              "        document.querySelector('#df-dec65572-930e-408a-a29e-e15ee89b1563 button');\n",
              "      quickchartButtonEl.style.display =\n",
              "        google.colab.kernel.accessAllowed ? 'block' : 'none';\n",
              "    })();\n",
              "  </script>\n",
              "</div>\n",
              "    </div>\n",
              "  </div>\n"
            ],
            "application/vnd.google.colaboratory.intrinsic+json": {
              "type": "dataframe",
              "variable_name": "recommended_mentors"
            }
          },
          "metadata": {},
          "execution_count": 25
        }
      ]
    },
    {
      "cell_type": "code",
      "source": [],
      "metadata": {
        "id": "o_GJONMOUpKx"
      },
      "execution_count": null,
      "outputs": []
    },
    {
      "cell_type": "code",
      "source": [
        "random_professional"
      ],
      "metadata": {
        "id": "6Lk2gk8FhAVR"
      },
      "execution_count": null,
      "outputs": []
    },
    {
      "cell_type": "code",
      "source": [
        "# Get unique values for each column\n",
        "unique_values_per_column = {}\n",
        "\n",
        "for column in df.columns:\n",
        "    unique_values_per_column[column] = df[column].unique()\n",
        "\n",
        "# Print unique values for each column\n",
        "for column, unique_values in unique_values_per_column.items():\n",
        "    print(f\"Unique values for column '{column}':\")\n",
        "    print(unique_values)\n",
        "    print()"
      ],
      "metadata": {
        "id": "WusdgZmZyz2k"
      },
      "execution_count": null,
      "outputs": []
    },
    {
      "cell_type": "code",
      "source": [
        "# Retrieve the label encoder for the specific column\n",
        "label_encoder = label_encoders[\"CodingActivities\"]\n",
        "\n",
        "# Use inverse_transform to decode the encoded values\n",
        "original_values = label_encoder.inverse_transform(np.array([89]))"
      ],
      "metadata": {
        "id": "7jU5Kedrhx7Q"
      },
      "execution_count": null,
      "outputs": []
    },
    {
      "cell_type": "code",
      "source": [
        "original_values"
      ],
      "metadata": {
        "colab": {
          "base_uri": "https://localhost:8080/"
        },
        "id": "OrKS5XBQi1I0",
        "outputId": "48a7784d-de33-4a82-80a7-63dbfc70685b"
      },
      "execution_count": null,
      "outputs": [
        {
          "output_type": "execute_result",
          "data": {
            "text/plain": [
              "array(['Hobby;Freelance/contract work'], dtype=object)"
            ]
          },
          "metadata": {},
          "execution_count": 32
        }
      ]
    },
    {
      "cell_type": "code",
      "source": [
        "import pickle\n",
        "\n",
        "# # Save the encoder.\n",
        "# with open('/content/drive/MyDrive/Eduforge/model.pkl', 'wb') as f:\n",
        "#     pickle.dump(knn_model, f)\n",
        "\n",
        "# Save the encoder.\n",
        "# with open('/content/drive/MyDrive/Eduforge/scaler.pkl', 'wb') as f:\n",
        "#     pickle.dump(scaler, f)\n",
        "\n",
        "with open('/content/drive/MyDrive/Eduforge/train_data.pkl', 'wb') as f:\n",
        "    pickle.dump(train_data, f)\n",
        "\n",
        "# # Save the encoder.\n",
        "# with open('encoder.pkl', 'wb') as f:\n",
        "#     pickle.dump(encoder, f)\n",
        "\n",
        "# # Save the scaler.\n",
        "# with open('scaler.pkl', 'wb') as f:\n",
        "#     pickle.dump(scaler, f)"
      ],
      "metadata": {
        "id": "-LYNRLl3-s-8"
      },
      "execution_count": null,
      "outputs": []
    },
    {
      "cell_type": "code",
      "source": [
        "from sklearn.metrics import precision_score, recall_score, average_precision_score\n",
        "\n",
        "# Assuming 'ground_truth' contains the ground truth labels and 'predictions' contains the recommendations\n",
        "# For precision and recall, you may need to convert predictions to binary format (e.g., 1 for recommended, 0 for not recommended)\n",
        "\n",
        "precision = precision_score(ground_truth, predictions)\n",
        "recall = recall_score(ground_truth, predictions)\n",
        "map_score = average_precision_score(ground_truth, predictions)\n",
        "\n",
        "print(\"Precision:\", precision)\n",
        "print(\"Recall:\", recall)\n",
        "print(\"Mean Average Precision (MAP):\", map_score)"
      ],
      "metadata": {
        "id": "BSqj1NwMlsXC"
      },
      "execution_count": null,
      "outputs": []
    },
    {
      "cell_type": "code",
      "source": [
        "unique_values = {}\n",
        "for column in df.columns:\n",
        "  unique_values[column] = [str(value) for value in df[column].unique()]\n",
        "\n",
        "\n",
        "unique_values_all_columns = set()\n",
        "for column, values in unique_values.items():\n",
        "  new_values = [item for sublist in values for item in sublist.split(\";\")]\n",
        "  unique_values_all_columns.update(new_values)\n",
        "\n",
        "len(unique_values_all_columns)"
      ],
      "metadata": {
        "id": "heOxUnd9ca0v",
        "colab": {
          "base_uri": "https://localhost:8080/"
        },
        "outputId": "e6479f58-74f9-4ddf-a5ed-d07c4e55aa83"
      },
      "execution_count": null,
      "outputs": [
        {
          "output_type": "execute_result",
          "data": {
            "text/plain": [
              "679"
            ]
          },
          "metadata": {},
          "execution_count": 16
        }
      ]
    },
    {
      "cell_type": "code",
      "source": [
        "df.shape"
      ],
      "metadata": {
        "colab": {
          "base_uri": "https://localhost:8080/"
        },
        "id": "5ubppHVWNt7i",
        "outputId": "2c6e2048-425e-4334-e678-d2c1525a98ba"
      },
      "execution_count": null,
      "outputs": [
        {
          "output_type": "execute_result",
          "data": {
            "text/plain": [
              "(89184, 30)"
            ]
          },
          "metadata": {},
          "execution_count": 26
        }
      ]
    },
    {
      "cell_type": "code",
      "execution_count": null,
      "metadata": {
        "colab": {
          "base_uri": "https://localhost:8080/"
        },
        "id": "gDpymaNjTm-p",
        "outputId": "d187e0f8-4c60-4ded-cb86-f845b442a694"
      },
      "outputs": [
        {
          "output_type": "stream",
          "name": "stderr",
          "text": [
            "/usr/local/lib/python3.10/dist-packages/sklearn/feature_extraction/text.py:528: UserWarning: The parameter 'token_pattern' will not be used since 'tokenizer' is not None'\n",
            "  warnings.warn(\n",
            "/usr/local/lib/python3.10/dist-packages/sklearn/feature_extraction/text.py:1380: UserWarning: Upper case characters found in vocabulary while 'lowercase' is True. These entries will not be matched with any documents\n",
            "  warnings.warn(\n"
          ]
        }
      ],
      "source": [
        "# Use a different set of stop words\n",
        "stop_words = list(unique_values_all_columns)\n",
        "\n",
        "# Modify your tokenizer to keep stop words\n",
        "tokenizer = lambda x: x.split(\";\")\n",
        "\n",
        "# Instantiating the Vectorizer\n",
        "vectorizer = TfidfVectorizer(vocabulary=stop_words, tokenizer=tokenizer)\n",
        "\n",
        "# Fit the vectorizer to your data\n",
        "x = vectorizer.fit_transform(df)"
      ]
    },
    {
      "cell_type": "code",
      "source": [],
      "metadata": {
        "id": "PyWyRi6PPaVz"
      },
      "execution_count": null,
      "outputs": []
    },
    {
      "cell_type": "code",
      "source": [
        "# Fill missing values with the most frequent value of each column\n",
        "df = df.apply(lambda x: x.fillna(x.value_counts().index[0]))\n",
        "df = df.applymap(str)\n",
        "\n",
        "df_transformed = df.apply(vectorizer.fit_transform)"
      ],
      "metadata": {
        "colab": {
          "base_uri": "https://localhost:8080/"
        },
        "id": "TnjIul6POdcn",
        "outputId": "c2248b3c-0efe-4c60-e5a9-a9bd19b99cc0"
      },
      "execution_count": null,
      "outputs": [
        {
          "output_type": "stream",
          "name": "stderr",
          "text": [
            "/usr/local/lib/python3.10/dist-packages/sklearn/feature_extraction/text.py:528: UserWarning: The parameter 'token_pattern' will not be used since 'tokenizer' is not None'\n",
            "  warnings.warn(\n",
            "/usr/local/lib/python3.10/dist-packages/sklearn/feature_extraction/text.py:1380: UserWarning: Upper case characters found in vocabulary while 'lowercase' is True. These entries will not be matched with any documents\n",
            "  warnings.warn(\n"
          ]
        }
      ]
    },
    {
      "cell_type": "code",
      "source": [
        "print(df_transformed.to_numpy().shape)"
      ],
      "metadata": {
        "colab": {
          "base_uri": "https://localhost:8080/"
        },
        "id": "ZUj41SEpPwql",
        "outputId": "55ff0d76-7904-44c9-8fb6-51fe4d0c8f46"
      },
      "execution_count": null,
      "outputs": [
        {
          "output_type": "stream",
          "name": "stdout",
          "text": [
            "(30,)\n"
          ]
        }
      ]
    },
    {
      "cell_type": "code",
      "source": [
        "df[numerical_columns].fillna(0, inplace=True)\n",
        "df[categorical_columns].fillna(\"NA\", inplace=True)"
      ],
      "metadata": {
        "colab": {
          "base_uri": "https://localhost:8080/"
        },
        "id": "KdcE97QNUTNm",
        "outputId": "24a7b130-6536-42b8-e0c9-317bde7f31f9"
      },
      "execution_count": null,
      "outputs": [
        {
          "output_type": "stream",
          "name": "stderr",
          "text": [
            "<ipython-input-24-f8c925b10467>:1: SettingWithCopyWarning: \n",
            "A value is trying to be set on a copy of a slice from a DataFrame\n",
            "\n",
            "See the caveats in the documentation: https://pandas.pydata.org/pandas-docs/stable/user_guide/indexing.html#returning-a-view-versus-a-copy\n",
            "  df[numerical_columns].fillna(0, inplace=True)\n",
            "<ipython-input-24-f8c925b10467>:2: SettingWithCopyWarning: \n",
            "A value is trying to be set on a copy of a slice from a DataFrame\n",
            "\n",
            "See the caveats in the documentation: https://pandas.pydata.org/pandas-docs/stable/user_guide/indexing.html#returning-a-view-versus-a-copy\n",
            "  df[categorical_columns].fillna(\"NA\", inplace=True)\n"
          ]
        }
      ]
    },
    {
      "cell_type": "code",
      "source": [
        "import nltk\n",
        "from nltk.sentiment import SentimentIntensityAnalyzer\n",
        "from summa import summarizer\n",
        "from textblob import TextBlob\n",
        "from collections import Counter\n",
        "\n",
        "def analyze_feedback(feedback):\n",
        "    # Sentiment Analysis\n",
        "    sia = SentimentIntensityAnalyzer()\n",
        "    sentiment_score = sia.polarity_scores(feedback)\n",
        "\n",
        "    # Topic Modeling\n",
        "    summarized_feedback = summarizer.summarize(feedback)\n",
        "\n",
        "    # Named Entity Recognition\n",
        "    feedback_blob = TextBlob(feedback)\n",
        "    named_entities = feedback_blob.noun_phrases\n",
        "\n",
        "    # Actionable Insights\n",
        "    # Counting the most common noun phrases\n",
        "    noun_phrase_counts = Counter(named_entities)\n",
        "    top_noun_phrases = noun_phrase_counts.most_common(3)\n",
        "\n",
        "    # Actionable Suggestions based on sentiment\n",
        "    actionable_suggestions = []\n",
        "    if sentiment_score['compound'] < -0.2:\n",
        "        actionable_suggestions.append(\"Address negative aspects mentioned in the feedback.\")\n",
        "    elif sentiment_score['compound'] > 0.2:\n",
        "        actionable_suggestions.append(\"Leverage positive aspects mentioned in the feedback.\")\n",
        "\n",
        "    return {\n",
        "        \"sentiment_score\": sentiment_score,\n",
        "        \"summarized_feedback\": summarized_feedback,\n",
        "        \"top_noun_phrases\": top_noun_phrases,\n",
        "        \"actionable_suggestions\": actionable_suggestions\n",
        "    }\n",
        "\n",
        "# Example feedback text\n",
        "feedback_text = \"\"\"\n",
        "Thank you for sharing your background and preferences with us. Based on your responses, it's clear that you have a solid foundation in coding, with a focus on backend development. Your interest in languages like C++, Lua, Python, and Rust suggests a strong inclination towards systems programming and backend technologies.\n",
        "\n",
        "Given your experience with platforms like Heroku and frameworks like FastAPI and React, you seem well-versed in building scalable web applications. Additionally, your familiarity with tools like APT, Cargo, and GNU GCC indicates a proficiency in software development workflows.\n",
        "\n",
        "Considering your employment status as a student and part-time employee, along with your remote work situation, it's evident that flexibility and efficiency are crucial for you. Hence, I would suggest exploring opportunities to enhance your collaboration skills, perhaps by leveraging tools like Visual Studio Code more effectively for remote teamwork.\n",
        "\n",
        "Keep up the good work, and don't hesitate to reach out if you need further guidance or assistance.\n",
        "\n",
        "\"\"\"\n",
        "\n",
        "# Analyzing feedback\n",
        "analysis_result = analyze_feedback(feedback_text)\n",
        "\n",
        "# Printing the analysis result\n",
        "print(\"Sentiment Score:\", analysis_result[\"sentiment_score\"])\n",
        "print(\"Summarized Feedback:\", analysis_result[\"summarized_feedback\"])\n",
        "print(\"Top Noun Phrases:\", analysis_result[\"top_noun_phrases\"])\n",
        "print(\"Actionable Suggestions:\", analysis_result[\"actionable_suggestions\"])\n"
      ],
      "metadata": {
        "colab": {
          "base_uri": "https://localhost:8080/"
        },
        "id": "8WwaRzlGwwFC",
        "outputId": "c8679202-f6ef-4764-d884-f5ab49fb0077"
      },
      "execution_count": null,
      "outputs": [
        {
          "output_type": "stream",
          "name": "stdout",
          "text": [
            "Sentiment Score: {'neg': 0.006, 'neu': 0.748, 'pos': 0.246, 'compound': 0.9896}\n",
            "Summarized Feedback: Hence, I would suggest exploring opportunities to enhance your collaboration skills, perhaps by leveraging tools like Visual Studio Code more effectively for remote teamwork.\n",
            "Top Noun Phrases: [('thank', 1), ('based', 1), ('solid foundation', 1)]\n",
            "Actionable Suggestions: ['Leverage positive aspects mentioned in the feedback.']\n"
          ]
        }
      ]
    },
    {
      "cell_type": "code",
      "source": [
        "import spacy\n",
        "\n",
        "# Load the English language model\n",
        "nlp = spacy.load(\"en_core_web_sm\")\n",
        "\n",
        "def extract_actionables(feedback):\n",
        "    # Process the feedback text with spaCy\n",
        "    doc = nlp(feedback)\n",
        "\n",
        "    # Extract actionable verbs and phrases\n",
        "    actionables = []\n",
        "    for token in doc:\n",
        "        if token.pos_ == \"VERB\" and token.dep_ in [\"ROOT\", \"xcomp\"]:\n",
        "            actionables.append(token.text)\n",
        "        elif token.pos_ == \"NOUN\" and token.dep_ == \"dobj\":\n",
        "            actionables.append(token.text)\n",
        "        elif token.pos_ == \"VERB\" and token.dep_ == \"acl\":\n",
        "            actionables.append(token.text)\n",
        "        elif token.pos_ == \"VERB\" and token.dep_ == \"advcl\":\n",
        "            actionables.append(token.text)\n",
        "        elif token.pos_ == \"AUX\" and token.dep_ == \"aux\":\n",
        "            actionables.append(token.text)\n",
        "\n",
        "    return actionables\n",
        "\n",
        "def generate_actionable_suggestions(actionables):\n",
        "    actionable_suggestions = []\n",
        "\n",
        "    if actionables:\n",
        "        actionable_suggestions.append(\"Consider taking the following actions based on the feedback:\")\n",
        "        actionable_suggestions.extend(\"- {}\".format(action) for action in actionables)\n",
        "    else:\n",
        "        actionable_suggestions.append(\"No specific actionable suggestions identified in the feedback.\")\n",
        "\n",
        "    return actionable_suggestions\n",
        "\n",
        "# Example usage\n",
        "feedback_text = \"\"\"\n",
        "I really enjoyed the service provided by your team. However, I think there is room for improvement in the delivery time. The product quality is excellent, but sometimes the packaging is not secure enough. Overall, I had a good experience but would appreciate faster delivery and better packaging.\n",
        "\"\"\"\n",
        "\n",
        "# Extract actionables from feedback\n",
        "actionables = extract_actionables(feedback_text)\n",
        "\n",
        "# Generate actionable suggestions\n",
        "actionable_suggestions = generate_actionable_suggestions(actionables)\n",
        "\n",
        "# Print actionable suggestions\n",
        "print(\"Actionable Suggestions extracted from the feedback:\")\n",
        "for suggestion in actionable_suggestions:\n",
        "    print(suggestion)\n"
      ],
      "metadata": {
        "colab": {
          "base_uri": "https://localhost:8080/"
        },
        "id": "M6IIcUQ27ktL",
        "outputId": "5fc04419-08ad-4ccf-c738-11652e167526"
      },
      "execution_count": null,
      "outputs": [
        {
          "output_type": "stream",
          "name": "stdout",
          "text": [
            "Actionable Suggestions extracted from the feedback:\n",
            "Consider taking the following actions based on the feedback:\n",
            "- enjoyed\n",
            "- service\n",
            "- provided\n",
            "- think\n",
            "- had\n",
            "- experience\n",
            "- would\n",
            "- delivery\n"
          ]
        }
      ]
    },
    {
      "source": [
        "!python -m textblob.download_corpora"
      ],
      "cell_type": "code",
      "metadata": {
        "colab": {
          "base_uri": "https://localhost:8080/"
        },
        "id": "5i63guqpx0Pp",
        "outputId": "8ad0b2a2-1c30-4b34-be79-5ecbba26c521"
      },
      "execution_count": null,
      "outputs": [
        {
          "output_type": "stream",
          "name": "stdout",
          "text": [
            "[nltk_data] Downloading package brown to /root/nltk_data...\n",
            "[nltk_data]   Unzipping corpora/brown.zip.\n",
            "[nltk_data] Downloading package punkt to /root/nltk_data...\n",
            "[nltk_data]   Unzipping tokenizers/punkt.zip.\n",
            "[nltk_data] Downloading package wordnet to /root/nltk_data...\n",
            "[nltk_data] Downloading package averaged_perceptron_tagger to\n",
            "[nltk_data]     /root/nltk_data...\n",
            "[nltk_data]   Unzipping taggers/averaged_perceptron_tagger.zip.\n",
            "[nltk_data] Downloading package conll2000 to /root/nltk_data...\n",
            "[nltk_data]   Unzipping corpora/conll2000.zip.\n",
            "[nltk_data] Downloading package movie_reviews to /root/nltk_data...\n",
            "[nltk_data]   Unzipping corpora/movie_reviews.zip.\n",
            "Finished.\n"
          ]
        }
      ]
    },
    {
      "source": [
        "import nltk\n",
        "nltk.download('brown')"
      ],
      "cell_type": "code",
      "metadata": {
        "colab": {
          "base_uri": "https://localhost:8080/"
        },
        "id": "NAvStMYAx0kd",
        "outputId": "06ef6eaa-084c-4f7c-b7f8-ce07beb9d4f0"
      },
      "execution_count": null,
      "outputs": [
        {
          "output_type": "stream",
          "name": "stderr",
          "text": [
            "[nltk_data] Downloading package brown to /root/nltk_data...\n",
            "[nltk_data]   Package brown is already up-to-date!\n"
          ]
        },
        {
          "output_type": "execute_result",
          "data": {
            "text/plain": [
              "True"
            ]
          },
          "metadata": {},
          "execution_count": 63
        }
      ]
    },
    {
      "source": [
        "!pip install nltk"
      ],
      "cell_type": "code",
      "metadata": {
        "colab": {
          "base_uri": "https://localhost:8080/"
        },
        "id": "mYZWOQhZxgDw",
        "outputId": "a5577d92-55b2-43c0-b833-62b0976af343"
      },
      "execution_count": null,
      "outputs": [
        {
          "output_type": "stream",
          "name": "stdout",
          "text": [
            "Requirement already satisfied: nltk in /usr/local/lib/python3.10/dist-packages (3.8.1)\n",
            "Requirement already satisfied: click in /usr/local/lib/python3.10/dist-packages (from nltk) (8.1.7)\n",
            "Requirement already satisfied: joblib in /usr/local/lib/python3.10/dist-packages (from nltk) (1.3.2)\n",
            "Requirement already satisfied: regex>=2021.8.3 in /usr/local/lib/python3.10/dist-packages (from nltk) (2023.12.25)\n",
            "Requirement already satisfied: tqdm in /usr/local/lib/python3.10/dist-packages (from nltk) (4.66.2)\n"
          ]
        }
      ]
    },
    {
      "source": [
        "import nltk\n",
        "nltk.download('vader_lexicon')"
      ],
      "cell_type": "code",
      "metadata": {
        "colab": {
          "base_uri": "https://localhost:8080/"
        },
        "id": "0l3PTS9xxg5a",
        "outputId": "a7630ba5-3f6a-4549-ec39-2bb2d907dde9"
      },
      "execution_count": null,
      "outputs": [
        {
          "output_type": "stream",
          "name": "stderr",
          "text": [
            "[nltk_data] Downloading package vader_lexicon to /root/nltk_data...\n"
          ]
        },
        {
          "output_type": "execute_result",
          "data": {
            "text/plain": [
              "True"
            ]
          },
          "metadata": {},
          "execution_count": 60
        }
      ]
    },
    {
      "cell_type": "code",
      "source": [
        "!pip install summa\n"
      ],
      "metadata": {
        "colab": {
          "base_uri": "https://localhost:8080/"
        },
        "id": "kkxJkfrkw2Bk",
        "outputId": "bd5fe5a7-a9ad-4403-fe5a-b7224bbf9910"
      },
      "execution_count": null,
      "outputs": [
        {
          "output_type": "stream",
          "name": "stdout",
          "text": [
            "Collecting summa\n",
            "  Downloading summa-1.2.0.tar.gz (54 kB)\n",
            "\u001b[?25l     \u001b[90m━━━━━━━━━━━━━━━━━━━━━━━━━━━━━━━━━━━━━━━━\u001b[0m \u001b[32m0.0/54.9 kB\u001b[0m \u001b[31m?\u001b[0m eta \u001b[36m-:--:--\u001b[0m\r\u001b[2K     \u001b[91m━━━━━━━━━━━━━━━━━━━━━━━━━━━━━━━━━━━━━\u001b[0m\u001b[90m╺\u001b[0m\u001b[90m━━\u001b[0m \u001b[32m51.2/54.9 kB\u001b[0m \u001b[31m1.5 MB/s\u001b[0m eta \u001b[36m0:00:01\u001b[0m\r\u001b[2K     \u001b[90m━━━━━━━━━━━━━━━━━━━━━━━━━━━━━━━━━━━━━━━━\u001b[0m \u001b[32m54.9/54.9 kB\u001b[0m \u001b[31m1.2 MB/s\u001b[0m eta \u001b[36m0:00:00\u001b[0m\n",
            "\u001b[?25h  Preparing metadata (setup.py) ... \u001b[?25l\u001b[?25hdone\n",
            "Requirement already satisfied: scipy>=0.19 in /usr/local/lib/python3.10/dist-packages (from summa) (1.11.4)\n",
            "Requirement already satisfied: numpy<1.28.0,>=1.21.6 in /usr/local/lib/python3.10/dist-packages (from scipy>=0.19->summa) (1.25.2)\n",
            "Building wheels for collected packages: summa\n",
            "  Building wheel for summa (setup.py) ... \u001b[?25l\u001b[?25hdone\n",
            "  Created wheel for summa: filename=summa-1.2.0-py3-none-any.whl size=54386 sha256=7bc9b16c888619867b46db0e289d408f84fe9c8254aac1dd78490fe0bada2cbd\n",
            "  Stored in directory: /root/.cache/pip/wheels/4a/ca/c5/4958614cfba88ed6ceb7cb5a849f9f89f9ac49971616bc919f\n",
            "Successfully built summa\n",
            "Installing collected packages: summa\n",
            "Successfully installed summa-1.2.0\n"
          ]
        }
      ]
    }
  ],
  "metadata": {
    "kernelspec": {
      "display_name": "Python 3",
      "language": "python",
      "name": "python3"
    },
    "language_info": {
      "codemirror_mode": {
        "name": "ipython",
        "version": 3
      },
      "file_extension": ".py",
      "mimetype": "text/x-python",
      "name": "python",
      "nbconvert_exporter": "python",
      "pygments_lexer": "ipython3",
      "version": "3.7.3"
    },
    "colab": {
      "provenance": []
    }
  },
  "nbformat": 4,
  "nbformat_minor": 0
}